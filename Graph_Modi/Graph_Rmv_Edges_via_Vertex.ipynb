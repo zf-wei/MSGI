{
 "cells": [
  {
   "cell_type": "code",
   "execution_count": 1,
   "id": "4550ebe1",
   "metadata": {},
   "outputs": [],
   "source": [
    "import warnings\n",
    "\n",
    "warnings.filterwarnings(\"ignore\", category=UserWarning)\n",
    "warnings.filterwarnings(\"ignore\", category=DeprecationWarning)\n",
    "warnings.filterwarnings(\"ignore\", category=FutureWarning)"
   ]
  },
  {
   "cell_type": "code",
   "execution_count": 2,
   "id": "064b5ded",
   "metadata": {},
   "outputs": [],
   "source": [
    "### 使用 networkx 包中的函数 LFR_benchmark_graph 生成随机图\n",
    "\n",
    "# 导入 networkx 包并给定参数生成 LFR 图\n",
    "import networkx as nx\n",
    "\n",
    "from networkx.generators.community import LFR_benchmark_graph\n",
    "\n",
    "\n",
    "n = 250\n",
    "\n",
    "tau1 = 2.5\n",
    "\n",
    "tau2 = 1.5\n",
    "\n",
    "mu = 0.1\n",
    "\n",
    "G = LFR_benchmark_graph(\n",
    "\n",
    "    n, tau1, tau2, mu, average_degree=6, min_community=30, seed=7\n",
    "\n",
    ")\n",
    "### 去掉 G 中的重边和自环 \n",
    "G = nx.Graph(G) # Remove multi-edges\n",
    "\n",
    "selfloop_edges = list(nx.selfloop_edges(G)) # a list of self loops\n",
    "\n",
    "G.remove_edges_from(selfloop_edges) # Remove self-loops"
   ]
  },
  {
   "cell_type": "code",
   "execution_count": 3,
   "id": "5fe81c9c",
   "metadata": {},
   "outputs": [],
   "source": [
    "import numpy as np\n",
    "intrinsic_communities = {frozenset(G.nodes[v][\"community\"]) for v in G}\n",
    "intrinsic_membership = np.empty(G.number_of_nodes(), dtype=int)\n",
    "for node in range(G.number_of_nodes()):\n",
    "    for index, inner_set in enumerate(intrinsic_communities):\n",
    "        if node in inner_set:\n",
    "            intrinsic_membership[node] = index\n",
    "            break"
   ]
  },
  {
   "cell_type": "code",
   "execution_count": 4,
   "id": "c72bd81e",
   "metadata": {},
   "outputs": [],
   "source": [
    "for vertex in range(0,30):\n",
    "    edges_to_remove = list(G.edges(vertex))\n",
    "    G.remove_edges_from(edges_to_remove)\n",
    "\n",
    "#import numpy as np\n",
    "K = len(np.unique(intrinsic_membership))\n",
    "\n",
    "\n",
    "from clusim.clustering import Clustering\n",
    "intrinsic_clustering = Clustering(\n",
    "                            elm2clu_dict={i: [intrinsic_membership[i]] for i in range(len(intrinsic_membership))}\n",
    "                            )"
   ]
  },
  {
   "cell_type": "code",
   "execution_count": 5,
   "id": "93122df3",
   "metadata": {},
   "outputs": [],
   "source": [
    "from auxpack.eval_embd import eval_embd as EE\n",
    "from auxpack.eval_embd import euclid_membership as EM\n",
    "from auxpack.eval_embd import cosine_membership as CM\n",
    "from auxpack.evaluate_clustering import NMI\n",
    "from auxpack.evaluate_clustering import ECSim\n",
    "\n",
    "D=5"
   ]
  },
  {
   "cell_type": "markdown",
   "id": "3ad6b155",
   "metadata": {},
   "source": [
    "下面所得到的嵌入结果 embd的类型均为 array"
   ]
  },
  {
   "cell_type": "code",
   "execution_count": 6,
   "id": "917a7956",
   "metadata": {
    "scrolled": true
   },
   "outputs": [
    {
     "name": "stdout",
     "output_type": "stream",
     "text": [
      "[5 3 0 2 6 6 0 0 4 2 7 3 4 2 4 0 0 2 5 5 4 5 5 6 6 5 5 7 6 5]\n",
      "[0 0 0 0 0 0 0 0 0 3 7 0 3 7 0 0 3 1 0 0 3 3 0 0 7 7 0 0 7 1]\n",
      "[4 1 4 1 4 4 4 6 4 7 2 4 1 2 4 4 1 6 4 4 1 1 4 4 2 2 6 1 2 6]\n",
      "NMI&ECS: 0.1902677775688603 0.2659236497404781 0.21194444444444438 0.22861111111111113\n",
      "NMI&ECS: [0.7217060885573722, 0.7362713777779915, 0.6491107142857143, 0.7080831828372152]\n",
      "CPU times: user 11.6 s, sys: 189 ms, total: 11.8 s\n",
      "Wall time: 2.13 s\n"
     ]
    }
   ],
   "source": [
    "%%time\n",
    "### 4 DeepWalk方法\n",
    "from auxpack.DeepWalk import DeepWalk\n",
    "\n",
    "model = DeepWalk(dimensions=D, walk_length=16, window_size=10, walk_number=10, workers=32)\n",
    "model.fit(G)\n",
    "embd = model.get_embedding()\n",
    "\n",
    "print(intrinsic_membership[:30])\n",
    "print(EM(K,embd)[:30])\n",
    "print(CM(K,embd)[:30])\n",
    "print(\"NMI&ECS:\", NMI(intrinsic_membership[:30],EM(K,embd)[:30]),\n",
    "      NMI(intrinsic_membership[:30],CM(K,embd)[:30]),\n",
    "      ECSim(intrinsic_membership[:30],EM(K,embd)[:30]),\n",
    "      ECSim(intrinsic_membership[:30],CM(K,embd)[:30])\n",
    "     )\n",
    "      \n",
    "defen = EE(K, intrinsic_membership ,intrinsic_clustering,embd)\n",
    "print(\"NMI&ECS:\", defen)"
   ]
  },
  {
   "cell_type": "code",
   "execution_count": 7,
   "id": "20770f3e",
   "metadata": {},
   "outputs": [
    {
     "name": "stdout",
     "output_type": "stream",
     "text": [
      "[5 3 0 2 6 6 0 0 4 2 7 3 4 2 4 0 0 2 5 5 4 5 5 6 6 5 5 7 6 5]\n",
      "[4 4 4 4 4 4 4 4 4 4 1 4 4 3 4 4 4 3 1 4 4 4 4 4 5 6 1 4 4 2]\n",
      "[4 4 4 4 4 4 4 4 4 1 0 4 4 1 4 4 4 3 0 4 4 1 4 4 6 7 7 4 4 2]\n",
      "NMI&ECS: 0.2278126480684266 0.36227091553887647 0.17888888888888876 0.21416666666666664\n",
      "NMI&ECS: [0.7418583046269377, 0.7370252899663007, 0.6786309523809523, 0.6778305555555555]\n",
      "CPU times: user 14.4 s, sys: 0 ns, total: 14.4 s\n",
      "Wall time: 4.03 s\n"
     ]
    }
   ],
   "source": [
    "%%time\n",
    "### 5 Node2Vec方法 从 KarateClub提取的版本\n",
    "from auxpack.Node2Vec import Node2Vec\n",
    "\n",
    "model = Node2Vec(dimensions=D, walk_length=16, window_size=10, walk_number=10, workers=32)\n",
    "model.fit(G)\n",
    "embd = model.get_embedding()\n",
    "\n",
    "print(intrinsic_membership[:30])\n",
    "print(EM(K,embd)[:30])\n",
    "print(CM(K,embd)[:30])\n",
    "print(\"NMI&ECS:\", NMI(intrinsic_membership[:30],EM(K,embd)[:30]),\n",
    "      NMI(intrinsic_membership[:30],CM(K,embd)[:30]),\n",
    "      ECSim(intrinsic_membership[:30],EM(K,embd)[:30]),\n",
    "      ECSim(intrinsic_membership[:30],CM(K,embd)[:30])\n",
    "     )\n",
    "      \n",
    "defen = EE(K, intrinsic_membership ,intrinsic_clustering,embd)\n",
    "print(\"NMI&ECS:\", defen)"
   ]
  },
  {
   "cell_type": "code",
   "execution_count": 8,
   "id": "edd1d494",
   "metadata": {},
   "outputs": [
    {
     "name": "stdout",
     "output_type": "stream",
     "text": [
      "[5 3 0 2 6 6 0 0 4 2 7 3 4 2 4 0 0 2 5 5 4 5 5 6 6 5 5 7 6 5]\n",
      "[5 5 5 5 5 5 5 5 5 5 5 5 5 5 5 5 5 5 5 5 5 5 5 5 5 5 5 5 5 5]\n",
      "[0 5 5 2 5 5 5 7 5 4 1 1 2 3 5 0 1 2 2 5 7 5 3 1 0 0 5 3 3 3]\n",
      "NMI&ECS: 0.0 0.3309395704664519 0.17111111111111105 0.2549242424242424\n",
      "NMI&ECS: [0.7885077376990165, 0.6945924552738689, 0.7053772727272727, 0.653081120578056]\n",
      "CPU times: user 16.4 s, sys: 11.3 s, total: 27.6 s\n",
      "Wall time: 4.8 s\n"
     ]
    }
   ],
   "source": [
    "%%time\n",
    "### 5 Node2Vec 方法 以后使用这个\n",
    "from node2vec import Node2Vec\n",
    "\n",
    "remain_nodes = np.array(range(G.number_of_nodes()))\n",
    "nodes = [str(i) for i in remain_nodes]\n",
    "# Precompute probabilities and generate walks - **ON WINDOWS ONLY WORKS WITH workers=1**\n",
    "node2vec_model = Node2Vec(G, dimensions=D, walk_length=16, num_walks=10, workers=32, quiet=True) #, temp_folder='test' # Use temp_folder for big graphs\n",
    "# Embed nodes \n",
    "node2vec_fit = node2vec_model.fit(window=10, min_count=1, batch_words=20000)  \n",
    "# Any keywords acceptable by gensim.Word2Vec can be passed, `dimensions` and `workers` are automatically passed \n",
    "# (from the Node2Vec constructor)\n",
    "embd = np.array([node2vec_fit.wv[node] for node in nodes])\n",
    "\n",
    "print(intrinsic_membership[:30])\n",
    "print(EM(K,embd)[:30])\n",
    "print(CM(K,embd)[:30])\n",
    "print(\"NMI&ECS:\", NMI(intrinsic_membership[:30],EM(K,embd)[:30]),\n",
    "      NMI(intrinsic_membership[:30],CM(K,embd)[:30]),\n",
    "      ECSim(intrinsic_membership[:30],EM(K,embd)[:30]),\n",
    "      ECSim(intrinsic_membership[:30],CM(K,embd)[:30])\n",
    "     )\n",
    "      \n",
    "defen = EE(K, intrinsic_membership ,intrinsic_clustering,embd)\n",
    "print(\"NMI&ECS:\", defen)"
   ]
  },
  {
   "cell_type": "code",
   "execution_count": 9,
   "id": "0b10901a",
   "metadata": {},
   "outputs": [
    {
     "name": "stdout",
     "output_type": "stream",
     "text": [
      "[5 3 0 2 6 6 0 0 4 2 7 3 4 2 4 0 0 2 5 5 4 5 5 6 6 5 5 7 6 5]\n",
      "[4 1 4 3 5 1 5 5 3 3 4 5 1 1 2 3 4 1 1 5 3 4 1 4 5 1 2 3 3 4]\n",
      "[3 4 3 5 0 4 0 0 5 5 3 0 4 4 2 5 3 4 4 0 5 3 4 3 0 4 2 5 5 3]\n",
      "NMI&ECS: 0.28261058404893663 0.2826105840489366 0.2517857142857142 0.2517857142857142\n",
      "NMI&ECS: [0.639108835906917, 0.6383395844262291, 0.5791266004526874, 0.5560914667560001]\n",
      "CPU times: user 7.08 s, sys: 0 ns, total: 7.08 s\n",
      "Wall time: 157 ms\n"
     ]
    }
   ],
   "source": [
    "%%time\n",
    "### 6 MNMF 方法\n",
    "from karateclub import MNMF\n",
    "\n",
    "# Create an instance of the MNMF model\n",
    "MNMF_model = MNMF(dimensions = D, clusters = K, lambd = 0.2, \n",
    "             alpha = 0.05, beta = 0.05, iterations = 100, \n",
    "             lower_control = 1e-15, eta = 5.0, seed = 42)\n",
    "\n",
    "# Fit the model to the graph\n",
    "H = nx.relabel.convert_node_labels_to_integers(G)\n",
    "MNMF_model.fit(H)\n",
    "# Obtain the graph embeddings\n",
    "embd = MNMF_model.get_embedding()\n",
    "\n",
    "print(intrinsic_membership[:30])\n",
    "print(EM(K,embd)[:30])\n",
    "print(CM(K,embd)[:30])\n",
    "print(\"NMI&ECS:\", NMI(intrinsic_membership[:30],EM(K,embd)[:30]),\n",
    "      NMI(intrinsic_membership[:30],CM(K,embd)[:30]),\n",
    "      ECSim(intrinsic_membership[:30],EM(K,embd)[:30]),\n",
    "      ECSim(intrinsic_membership[:30],CM(K,embd)[:30])\n",
    "     )\n",
    "      \n",
    "defen = EE(K, intrinsic_membership ,intrinsic_clustering,embd)\n",
    "print(\"NMI&ECS:\", defen)"
   ]
  },
  {
   "cell_type": "code",
   "execution_count": 10,
   "id": "af5f3847",
   "metadata": {
    "scrolled": true
   },
   "outputs": [
    {
     "name": "stderr",
     "output_type": "stream",
     "text": [
      "2023-07-04 11:57:29.376018: I tensorflow/core/platform/cpu_feature_guard.cc:193] This TensorFlow binary is optimized with oneAPI Deep Neural Network Library (oneDNN) to use the following CPU instructions in performance-critical operations:  AVX2 FMA\n",
      "To enable them in other operations, rebuild TensorFlow with the appropriate compiler flags.\n",
      "2023-07-04 11:57:30.610712: I tensorflow/core/common_runtime/gpu/gpu_device.cc:1532] Created device /job:localhost/replica:0/task:0/device:GPU:0 with 38271 MB memory:  -> device: 0, name: NVIDIA A100-SXM4-40GB, pci bus id: 0000:02:00.0, compute capability: 8.0\n",
      "2023-07-04 11:57:30.612661: I tensorflow/core/common_runtime/gpu/gpu_device.cc:1532] Created device /job:localhost/replica:0/task:0/device:GPU:1 with 38271 MB memory:  -> device: 1, name: NVIDIA A100-SXM4-40GB, pci bus id: 0000:41:00.0, compute capability: 8.0\n"
     ]
    },
    {
     "name": "stdout",
     "output_type": "stream",
     "text": [
      "[5 3 0 2 6 6 0 0 4 2 7 3 4 2 4 0 0 2 5 5 4 5 5 6 6 5 5 7 6 5]\n",
      "[4 3 4 0 1 1 7 4 0 0 1 3 7 2 1 6 2 0 3 6 0 6 5 2 1 2 7 6 5 2]\n",
      "[2 0 1 3 5 5 2 1 7 6 5 0 2 4 6 2 4 7 0 1 1 1 4 4 5 6 2 1 3 4]\n",
      "NMI&ECS: 0.4214079048176572 0.40150005848463255 0.25722222222222224 0.22333333333333327\n",
      "NMI&ECS: [0.07732971717289473, 0.09464442879491239, 0.15768180613768842, 0.16540675983901781]\n",
      "CPU times: user 13.2 s, sys: 2.27 s, total: 15.5 s\n",
      "Wall time: 10 s\n"
     ]
    }
   ],
   "source": [
    "%%time\n",
    "### Run a second time will be much faster!\n",
    "### 7 LINE 方法\n",
    "from ge import LINE\n",
    "\n",
    "model = LINE(G,embedding_size=D,order='first');\n",
    "model.train(batch_size=8192,epochs=50,verbose=0);# train model\n",
    "LINE_embd = model.get_embeddings();# get embedding vectors\n",
    "embd = list(LINE_embd.values())\n",
    "\n",
    "print(intrinsic_membership[:30])\n",
    "print(EM(K,embd)[:30])\n",
    "print(CM(K,embd)[:30])\n",
    "print(\"NMI&ECS:\", NMI(intrinsic_membership[:30],EM(K,embd)[:30]),\n",
    "      NMI(intrinsic_membership[:30],CM(K,embd)[:30]),\n",
    "      ECSim(intrinsic_membership[:30],EM(K,embd)[:30]),\n",
    "      ECSim(intrinsic_membership[:30],CM(K,embd)[:30])\n",
    "     )\n",
    "      \n",
    "defen = EE(K, intrinsic_membership ,intrinsic_clustering,embd)\n",
    "print(\"NMI&ECS:\", defen)"
   ]
  },
  {
   "cell_type": "code",
   "execution_count": 11,
   "id": "74d0b4bf",
   "metadata": {},
   "outputs": [
    {
     "name": "stdout",
     "output_type": "stream",
     "text": [
      "[5 3 0 2 6 6 0 0 4 2 7 3 4 2 4 0 0 2 5 5 4 5 5 6 6 5 5 7 6 5]\n",
      "[1 1 2 6 4 1 0 3 5 3 3 2 5 5 4 4 2 5 7 6 0 3 3 5 0 0 6 2 1 6]\n",
      "[0 0 2 7 1 6 1 3 5 3 3 2 6 5 2 1 2 5 4 7 3 3 0 5 1 1 0 2 6 7]\n",
      "NMI&ECS: 0.43728456962729806 0.41474960539588573 0.2744444444444444 0.26499999999999996\n",
      "NMI&ECS: [0.06301884017436518, 0.07319974072882332, 0.14815026132694156, 0.1518583333333333]\n",
      "CPU times: user 10.9 s, sys: 95.2 ms, total: 11 s\n",
      "Wall time: 567 ms\n"
     ]
    }
   ],
   "source": [
    "%%time\n",
    "### Running a second time will be much faster!\n",
    "### 7 LINE 方法\n",
    "from ge import LINE\n",
    "\n",
    "model = LINE(G,embedding_size=D,order='first');\n",
    "model.train(batch_size=8192,epochs=50,verbose=0);# train model\n",
    "LINE_embd = model.get_embeddings();# get embedding vectors\n",
    "embd = list(LINE_embd.values())\n",
    "\n",
    "print(intrinsic_membership[:30])\n",
    "print(EM(K,embd)[:30])\n",
    "print(CM(K,embd)[:30])\n",
    "print(\"NMI&ECS:\", NMI(intrinsic_membership[:30],EM(K,embd)[:30]),\n",
    "      NMI(intrinsic_membership[:30],CM(K,embd)[:30]),\n",
    "      ECSim(intrinsic_membership[:30],EM(K,embd)[:30]),\n",
    "      ECSim(intrinsic_membership[:30],CM(K,embd)[:30])\n",
    "     )\n",
    "      \n",
    "defen = EE(K, intrinsic_membership ,intrinsic_clustering,embd)\n",
    "print(\"NMI&ECS:\", defen)"
   ]
  }
 ],
 "metadata": {
  "kernelspec": {
   "display_name": "Python 3 (ipykernel)",
   "language": "python",
   "name": "python3"
  },
  "language_info": {
   "codemirror_mode": {
    "name": "ipython",
    "version": 3
   },
   "file_extension": ".py",
   "mimetype": "text/x-python",
   "name": "python",
   "nbconvert_exporter": "python",
   "pygments_lexer": "ipython3",
   "version": "3.10.5"
  }
 },
 "nbformat": 4,
 "nbformat_minor": 5
}
