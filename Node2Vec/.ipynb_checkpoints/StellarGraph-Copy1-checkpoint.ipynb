{
 "cells": [
  {
   "cell_type": "markdown",
   "id": "5a61493c",
   "metadata": {},
   "source": [
    "这个文件包含了使用 Stellargraph 包的 Node2Vec 方法进行图嵌入的示例\n",
    "\n",
    "The document of StellarGraph is here: https://stellargraph.readthedocs.io/en/stable/index.html\n",
    "\n",
    "Here is one more page for StellarGraph: https://pypi.org/project/stellargraph/0.7.3/#algorithms\n",
    "\n",
    "This might be helpful in the future: https://stackoverflow.com/questions/69434060/stellargraph-and-node2vec-embedding"
   ]
  },
  {
   "cell_type": "code",
   "execution_count": 1,
   "id": "2be437f7",
   "metadata": {
    "scrolled": false
   },
   "outputs": [
    {
     "name": "stderr",
     "output_type": "stream",
     "text": [
      "2023-06-09 01:49:14.336427: I tensorflow/tsl/cuda/cudart_stub.cc:28] Could not find cuda drivers on your machine, GPU will not be used.\n",
      "2023-06-09 01:49:16.735499: I tensorflow/tsl/cuda/cudart_stub.cc:28] Could not find cuda drivers on your machine, GPU will not be used.\n",
      "2023-06-09 01:49:16.736696: I tensorflow/core/platform/cpu_feature_guard.cc:182] This TensorFlow binary is optimized to use available CPU instructions in performance-critical operations.\n",
      "To enable the following instructions: AVX2 FMA, in other operations, rebuild TensorFlow with the appropriate compiler flags.\n",
      "2023-06-09 01:49:34.472637: W tensorflow/compiler/tf2tensorrt/utils/py_utils.cc:38] TF-TRT Warning: Could not find TensorRT\n",
      "2023-06-09 01:50:00.140202: E tensorflow/compiler/xla/stream_executor/cuda/cuda_driver.cc:266] failed call to cuInit: CUDA_ERROR_NO_DEVICE: no CUDA-capable device is detected\n"
     ]
    }
   ],
   "source": [
    "### 导入必要的包\n",
    "import stellargraph as sg\n",
    "from stellargraph.data import BiasedRandomWalk\n",
    "from gensim.models import Word2Vec"
   ]
  },
  {
   "cell_type": "code",
   "execution_count": 2,
   "id": "f1250780",
   "metadata": {},
   "outputs": [],
   "source": [
    "### 导入示例图\n",
    "import networkx as nx\n",
    "\n",
    "G=nx.karate_club_graph()\n",
    "\n",
    "G = sg.StellarGraph.from_networkx(G)"
   ]
  },
  {
   "cell_type": "code",
   "execution_count": 3,
   "id": "3fb5a573",
   "metadata": {},
   "outputs": [],
   "source": [
    "### Set the parameters for the random walk\n",
    "\n",
    "walk_length = 15  # Length of each random walk\n",
    "num_walks = 10  # Number of random walks to generate for each node"
   ]
  },
  {
   "cell_type": "code",
   "execution_count": 4,
   "id": "6e75d628",
   "metadata": {},
   "outputs": [],
   "source": [
    "### Create the BiasedRandomWalk object with the graph and the parameters\n",
    "walker = BiasedRandomWalk(G)\n",
    "\n",
    "### Generate the random walks\n",
    "walks = walker.run(\n",
    "    nodes=list(G.nodes()),  # Start the random walks from all nodes\n",
    "    length=walk_length,\n",
    "    n=num_walks,\n",
    "    p=0.5,  # Return parameter\n",
    "    q=2.0,  # In-out parameter\n",
    ")"
   ]
  },
  {
   "cell_type": "code",
   "execution_count": 5,
   "id": "1ca29ab8",
   "metadata": {},
   "outputs": [],
   "source": [
    "### Create the Word2Vec model\n",
    "model = Word2Vec(walks, vector_size=12, window=5, min_count=0, sg=1, workers=4, epochs=1)\n",
    "\n",
    "# 在新的gensim函数库版本中，Word2Vec中的变量名进行了变化，\n",
    "# 旧版本中的 size 新版本改成了 vector_size\n",
    "# 旧版本 iter 新版本改成了 epochs\n",
    "\n",
    "### Retrieve the node embeddings from the Word2Vec model\n",
    "node_embeddings = model.wv"
   ]
  },
  {
   "cell_type": "code",
   "execution_count": 6,
   "id": "aaee8c06",
   "metadata": {},
   "outputs": [
    {
     "name": "stdout",
     "output_type": "stream",
     "text": [
      "Node 0 is embedded as vector:\n",
      " [ 0.04894801 -0.06206323 -0.02088395 -0.04624886 -0.05949179  0.01034192\n",
      " -0.05980597 -0.01870515  0.0309942   0.04860936  0.00998486  0.01752276].\n",
      "\n",
      "Node 1 is embedded as vector:\n",
      " [-0.07808384  0.0318895   0.04070399 -0.05357136  0.01007132 -0.01729064\n",
      "  0.00020336 -0.08236257  0.02243337 -0.03958422  0.00906372 -0.01313521].\n",
      "\n",
      "Node 2 is embedded as vector:\n",
      " [ 0.06194467  0.05521247 -0.030915   -0.07288035  0.04531223  0.05424796\n",
      " -0.00656292 -0.05591546 -0.05904938 -0.02080884  0.04286045 -0.03054365].\n",
      "\n",
      "Node 3 is embedded as vector:\n",
      " [ 0.07508986  0.05447089 -0.00593018  0.06425337 -0.07111946  0.02672589\n",
      " -0.03864998 -0.04240796  0.02991349  0.04475283  0.06474596 -0.04805422].\n",
      "\n",
      "Node 4 is embedded as vector:\n",
      " [-0.02583201  0.06578597  0.04948812 -0.01288052  0.01259136  0.01491701\n",
      "  0.06514642 -0.07925156 -0.00171276  0.02890997 -0.00782477  0.0698481 ].\n",
      "\n",
      "Node 5 is embedded as vector:\n",
      " [-0.00499448 -0.04746364  0.03209019  0.02322189  0.05742564  0.05084246\n",
      "  0.07948747  0.07727847  0.06581724 -0.05824587 -0.07629887 -0.00296461].\n",
      "\n",
      "Node 6 is embedded as vector:\n",
      " [ 0.0195698  -0.0376586   0.06990609 -0.08215136  0.05637201  0.02428681\n",
      " -0.04110693  0.03665156 -0.01449646  0.0559282   0.08304042 -0.0363537 ].\n",
      "\n",
      "Node 7 is embedded as vector:\n",
      " [-0.07431158 -0.05867967  0.00751213  0.05327111 -0.07183073  0.03054782\n",
      "  0.04324903  0.04784949  0.06222432 -0.05139729  0.00921345  0.05039402].\n",
      "\n"
     ]
    }
   ],
   "source": [
    "### Access the embedding of a specific node\n",
    "for i in range(8):\n",
    "    embedding = node_embeddings[i]\n",
    "    print(f\"Node {i} is embedded as vector:\\n {embedding}.\\n\")"
   ]
  }
 ],
 "metadata": {
  "kernelspec": {
   "display_name": "Python 3 (ipykernel)",
   "language": "python",
   "name": "python3"
  },
  "language_info": {
   "codemirror_mode": {
    "name": "ipython",
    "version": 3
   },
   "file_extension": ".py",
   "mimetype": "text/x-python",
   "name": "python",
   "nbconvert_exporter": "python",
   "pygments_lexer": "ipython3",
   "version": "3.8.16"
  }
 },
 "nbformat": 4,
 "nbformat_minor": 5
}
