{
 "cells": [
  {
   "cell_type": "code",
   "execution_count": null,
   "id": "efec7da8",
   "metadata": {},
   "outputs": [],
   "source": [
    "import numpy as np\n",
    "import pandas as pd\n",
    "import seaborn as sb\n",
    "from sklearn.metrics.pairwise import cosine_similarity\n",
    "import matplotlib.pyplot as plt"
   ]
  },
  {
   "cell_type": "code",
   "execution_count": null,
   "id": "b9a3003f",
   "metadata": {},
   "outputs": [],
   "source": [
    "for method in [0,1,2,3]:\n",
    "    algo_performance = {}\n",
    "    algo_performance_array = {}\n",
    "    algo_comparison = {}\n",
    "    g = {}\n",
    "    for mu in [0.01, 0.5]:\n",
    "        algo_performance[mu] = []\n",
    "        for algo in [2, 3, 1, 5, 4, 7]:\n",
    "            filename = f\"HeatMap_{mu}/{algo}_{method}.mean\"\n",
    "            ecs_array = np.loadtxt(filename, delimiter=' ')\n",
    "            ecs_array = ecs_array.reshape([1, ecs_array.shape[0]*ecs_array.shape[1]])\n",
    "            algo_performance[mu].append(ecs_array)\n",
    "        algo_performance_array[mu] = np.asarray(algo_performance[mu]).squeeze()\n",
    "        algo_comparison[mu] = cosine_similarity(algo_performance_array[mu])\n",
    "        g[mu] = sb.heatmap(algo_comparison[mu], annot=True)\n",
    "        g[mu].set_yticklabels(['LE','LLE','HOPE','M-NMF','Deepwalk','Node2Vec'], rotation=45)\n",
    "        g[mu].set_xticklabels(['LE','LLE','HOPE','M-NMF','Deepwalk','Node2Vec'], rotation=45)\n",
    "        plt.show()"
   ]
  },
  {
   "cell_type": "code",
   "execution_count": null,
   "id": "8eb46a42",
   "metadata": {},
   "outputs": [],
   "source": [
    "vmin = 0.75\n",
    "vmax = 1\n",
    "ind = {0.01:0, 0.5:1}\n",
    "let = {0.01: 'a', 0.5:'b'}\n",
    "Label = [\"Eucliean NMI\", \"Spherical NMI\", \"Euclidean ECS\", \"Spherical ECS\"]\n",
    "\n",
    "for method in [0,1,2,3]:\n",
    "    algo_comparison = {}\n",
    "    heatmap = {}\n",
    "    # Create subplots with a shared y-axis and x-axis\n",
    "    fig, axs = plt.subplots(1, 2, figsize=(10, 5.5), sharey=True, sharex=True, constrained_layout=True)  # 1 row, 2 columns, share y-axis\n",
    "    for mu in [0.01, 0.5]:\n",
    "        algo_performance = []\n",
    "        for algo in [2, 3, 1, 5, 4, 7]:\n",
    "            filename = f\"HeatMap_{mu}/{algo}_{method}.mean\"\n",
    "            ecs_array = np.loadtxt(filename, delimiter=' ')\n",
    "            ecs_array = ecs_array.reshape([1, ecs_array.shape[0]*ecs_array.shape[1]])\n",
    "            algo_performance.append(ecs_array)\n",
    "        algo_performance_array = np.asarray(algo_performance).squeeze()\n",
    "        algo_comparison[mu] = cosine_similarity(algo_performance_array)\n",
    "        # Plot the first heatmap in the first subplot using Seaborn\n",
    "        heatmap[mu] = sb.heatmap(algo_comparison[mu], cmap='viridis', ax=axs[ind[mu]], \n",
    "                                 annot=True, fmt=\".2f\", cbar=False, vmin=vmin, vmax=vmax)\n",
    "        heatmap[mu].set_yticklabels(['LE','LLE','HOPE','M-NMF','Deepwalk','Node2Vec'], rotation=45)\n",
    "        heatmap[mu].set_xticklabels(['LE','LLE','HOPE','M-NMF','Deepwalk','Node2Vec'], rotation=45)\n",
    "        axs[ind[mu]].set_title(f'({let[mu]}) μ={mu}')\n",
    "    axs[0].set_xlabel('')  # Remove x-axis label\n",
    "    axs[1].set_xlabel('')  # Remove x-axis label\n",
    "    axs[1].set_ylabel('')\n",
    "    # Create a common color bar for both heatmaps\n",
    "    cbar_ax = fig.add_axes([1.02, 0.15, 0.02, 0.7])  # [left, bottom, width, height]\n",
    "    cbar = fig.colorbar(heatmap[0.5].collections[0], cax=cbar_ax)\n",
    "\n",
    "    # Set color bar label\n",
    "    cbar.set_label('Similarity')\n",
    "\n",
    "    plt.savefig(Label[method]+\"方法比较热力图\",bbox_inches='tight')\n",
    "    print(Label[method])\n",
    "    # Show the plot\n",
    "    plt.show()"
   ]
  }
 ],
 "metadata": {
  "kernelspec": {
   "display_name": "Python 3 (ipykernel)",
   "language": "python",
   "name": "python3"
  },
  "language_info": {
   "codemirror_mode": {
    "name": "ipython",
    "version": 3
   },
   "file_extension": ".py",
   "mimetype": "text/x-python",
   "name": "python",
   "nbconvert_exporter": "python",
   "pygments_lexer": "ipython3",
   "version": "3.10.5"
  }
 },
 "nbformat": 4,
 "nbformat_minor": 5
}
