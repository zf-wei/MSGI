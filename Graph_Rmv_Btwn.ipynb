{
 "cells": [
  {
   "cell_type": "code",
   "execution_count": 1,
   "id": "2f876315",
   "metadata": {},
   "outputs": [],
   "source": [
    "import warnings\n",
    "\n",
    "warnings.filterwarnings(\"ignore\", category=UserWarning)\n",
    "warnings.filterwarnings(\"ignore\", category=DeprecationWarning)\n",
    "warnings.filterwarnings(\"ignore\", category=FutureWarning)"
   ]
  },
  {
   "cell_type": "code",
   "execution_count": 2,
   "id": "5398c860",
   "metadata": {},
   "outputs": [],
   "source": [
    "### 使用 networkx 包中的函数 LFR_benchmark_graph 生成随机图\n",
    "import networkx as nx\n",
    "from networkx.generators.community import LFR_benchmark_graph\n",
    "\n",
    "n = 1000\n",
    "tau1 = 2  # Power-law exponent for the degree distribution\n",
    "tau2 = 1.1 # Power-law exponent for the community size distribution \n",
    "            #S hould be >1\n",
    "mu = 0.1 # Mixing parameter\n",
    "avg_deg = 25 # Average Degree\n",
    "max_deg = int(0.1*n) # Max Degree\n",
    "min_commu = 60 # Min Community Size\n",
    "max_commu = int(0.1*n) # Max Community Size\n",
    "\n",
    "G0 = LFR_benchmark_graph(\n",
    "    n, tau1, tau2, mu, average_degree=avg_deg, max_degree=max_deg, min_community=min_commu, max_community=max_commu, \n",
    "    seed=7\n",
    ")\n",
    "### 去掉 G 中的重边和自环 \n",
    "G0 = nx.Graph(G0) # Remove multi-edges\n",
    "\n",
    "selfloop_edges = list(nx.selfloop_edges(G0)) # a list of self loops\n",
    "\n",
    "G0.remove_edges_from(selfloop_edges) # Remove self-loops"
   ]
  },
  {
   "cell_type": "code",
   "execution_count": 3,
   "id": "72d76c0f",
   "metadata": {},
   "outputs": [],
   "source": [
    "import numpy as np\n",
    "intrinsic_communities = {frozenset(G0.nodes[v][\"community\"]) for v in G0}\n",
    "intrinsic_membership = np.empty(G0.number_of_nodes(), dtype=int)\n",
    "for node in range(G0.number_of_nodes()):\n",
    "    for index, inner_set in enumerate(intrinsic_communities):\n",
    "        if node in inner_set:\n",
    "            intrinsic_membership[node] = index\n",
    "            break"
   ]
  },
  {
   "cell_type": "code",
   "execution_count": 4,
   "id": "3c46f811",
   "metadata": {},
   "outputs": [],
   "source": [
    "import os\n",
    "from datetime import date\n",
    "def generate_output(disturb: bool, filename):\n",
    "    # Generate the folder name with the current date\n",
    "    if disturb:   \n",
    "        folder_name = f\"Graph_Rmv_Stoch_{date.today()}\"\n",
    "    else:\n",
    "        folder_name = f\"Graph_Rmv_Btwn_{date.today()}\"\n",
    "\n",
    "    # Create the output directory if it doesn't exist\n",
    "    output_dir = os.path.join(os.getcwd(), folder_name)\n",
    "    os.makedirs(output_dir, exist_ok=True)\n",
    "\n",
    "    # Construct the full file path\n",
    "    file_path = os.path.join(output_dir, filename)\n",
    "    \n",
    "    return file_path"
   ]
  },
  {
   "cell_type": "code",
   "execution_count": 5,
   "id": "268b5ef3",
   "metadata": {},
   "outputs": [],
   "source": [
    "import matplotlib.pyplot as plt\n",
    "import pandas as pd\n",
    "from matplotlib.ticker import StrMethodFormatter\n",
    "\n",
    "def quar_plot(scores, disturb: bool, filename, win:10):\n",
    "    data = scores\n",
    "    # Extract x and y coordinates for each curve\n",
    "    x = range(len(data))  # Use the length of data as x-coordinates\n",
    "    y = list(zip(*data))  # Transpose the data matrix\n",
    "\n",
    "    # Compute rolling mean with a window size of win\n",
    "    y_smoothed = [pd.Series(curve).rolling(window=win, min_periods=1).mean() for curve in y]\n",
    "    #print(y_smoothed)\n",
    "    # Create subplots\n",
    "    fig, axs = plt.subplots(len(y_smoothed), 1, sharex=True)\n",
    "\n",
    "    # Plot each curve with smoothed data on a separate subplot\n",
    "    ylabel = [\"NMI Eucl\", \"NMI Cosn\", \"ECS Eucl\", \"ECS Cosn\"]\n",
    "\n",
    "    for i, curve in enumerate(y_smoothed):\n",
    "        axs[i].plot(x, curve)\n",
    "        axs[i].set_ylabel(ylabel[i]) \n",
    "        axs[i].yaxis.set_major_formatter(StrMethodFormatter('{x:.3f}'))\n",
    "    \n",
    "    # Add x-axis label to the last subplot\n",
    "    axs[-1].set_xlabel('Number of Removed Vertices')\n",
    "\n",
    "    # Adjust spacing between subplots\n",
    "    plt.tight_layout()\n",
    "    \n",
    "    file_path = generate_output(disturb, filename+\".png\")\n",
    "    plt.savefig(file_path)    \n",
    "    \n",
    "    # Show the plot\n",
    "    plt.show()"
   ]
  },
  {
   "cell_type": "code",
   "execution_count": 6,
   "id": "7e74e25e",
   "metadata": {},
   "outputs": [],
   "source": [
    "import os\n",
    "import csv\n",
    "from datetime import date\n",
    "\n",
    "def save_scores_to_csv(scores, disturb: bool, filename):\n",
    "    \"\"\"\n",
    "    Saves a list of 4-lists to a CSV file with a double space separator.\n",
    "    \n",
    "    Args:\n",
    "        scores (list): The list of 4-lists to be saved.\n",
    "        filename (str): The name of the output CSV file.\n",
    "    \"\"\"\n",
    "    # Construct the full file path\n",
    "    file_path = generate_output(disturb, filename+\".csv\")\n",
    "\n",
    "    with open(file_path, 'w', newline='') as file:\n",
    "        writer = csv.writer(file, delimiter=' ')\n",
    "        for score_list in scores:\n",
    "            writer.writerow(score_list)"
   ]
  },
  {
   "cell_type": "code",
   "execution_count": 8,
   "id": "b0bf6ae4",
   "metadata": {},
   "outputs": [],
   "source": [
    "betweenness = nx.betweenness_centrality(G0)\n",
    "temp = sorted(betweenness, key=betweenness.get, reverse=True)"
   ]
  },
  {
   "cell_type": "code",
   "execution_count": 9,
   "id": "61ed3b88",
   "metadata": {},
   "outputs": [],
   "source": [
    "from auxpack.eval_embd import eval_embd as EE\n",
    "from clusim.clustering import Clustering\n",
    "\n",
    "D=20\n",
    "K = len(np.unique(intrinsic_membership))\n",
    "wk=32\n",
    "#Measure = []\n",
    "#remain_nodes = np.array(range(G.number_of_nodes()))"
   ]
  },
  {
   "cell_type": "code",
   "execution_count": 10,
   "id": "6e083213",
   "metadata": {
    "scrolled": true
   },
   "outputs": [
    {
     "name": "stdout",
     "output_type": "stream",
     "text": [
      "Vertex 917 is removed. NMI&ECS: [0.9461477426077881, 0.9885139761685772, 0.8792734198098169, 0.9864615079400025]\n",
      "Vertex 297 is removed. NMI&ECS: [0.9445555609209234, 0.9885028112337145, 0.8732541700807973, 0.986447942316696]\n",
      "Vertex 393 is removed. NMI&ECS: [0.9373812898538662, 0.9956789656175375, 0.8638204970961553, 0.9940878696696149]\n",
      "Vertex 360 is removed. NMI&ECS: [0.9339220094987961, 0.9935907305736568, 0.8590461386443897, 0.9911772993851308]\n",
      "Vertex 652 is removed. "
     ]
    },
    {
     "data": {
      "image/png": "[encoded data removed]",
      "text/plain": [
       "<Figure size 432x288 with 4 Axes>"
      ]
     },
     "metadata": {
      "needs_background": "light"
     },
     "output_type": "display_data"
    },
    {
     "name": "stdout",
     "output_type": "stream",
     "text": [
      "CPU times: user 2min 1s, sys: 2min 34s, total: 4min 36s\n",
      "Wall time: 3.48 s\n"
     ]
    }
   ],
   "source": [
    "%%time\n",
    "### 1 Hope 方法\n",
    "from gem.embedding.hope import HOPE  \n",
    "\n",
    "idx = [True] *(G0.number_of_nodes())\n",
    "G=G0.copy()\n",
    "\n",
    "scores=[]\n",
    "\n",
    "for i in temp:\n",
    "    G.remove_node(i)\n",
    "    print(f\"Vertex {i} is removed.\", end=' ')\n",
    "    if not nx.is_connected(G):\n",
    "        print(\"In total\", temp.index(i), \"vertices are removed. G is now disconnected!!\")\n",
    "        break\n",
    "    \n",
    "    hope_model = HOPE(d=D, beta=0.01) \n",
    "    # A higher value of beta places more emphasis on capturing higher-order proximities\n",
    "    embd = hope_model.learn_embedding(graph=G, is_weighted=False, no_python=True)\n",
    "    \n",
    "    idx[i] = False\n",
    "    intrin_list = intrinsic_membership[idx]\n",
    "    intrin_Clus = Clustering({i: [intrin_list[i]] for i in range(len(intrin_list))})\n",
    "    K = len(np.unique(intrinsic_membership[idx]))\n",
    "    score = EE(K,intrin_list,intrin_Clus, embd)\n",
    "    scores.append(score)\n",
    "    print(\"NMI&ECS:\", score)\n",
    "    \n",
    "quar_plot(scores=scores, disturb=False, filename=\"1HOPE\", win=10)\n",
    "save_scores_to_csv(scores, False, \"1HOPE\")\n",
    "#Measure.append(scores)"
   ]
  },
  {
   "cell_type": "code",
   "execution_count": 11,
   "id": "1d36db06",
   "metadata": {
    "scrolled": true
   },
   "outputs": [
    {
     "name": "stdout",
     "output_type": "stream",
     "text": [
      "Vertex 917 is removed. NMI&ECS: [1.0, 1.0, 1.0, 1.0]\n",
      "Vertex 297 is removed. NMI&ECS: [1.0, 1.0, 1.0, 1.0]\n",
      "Vertex 393 is removed. NMI&ECS: [1.0, 1.0, 1.0, 1.0]\n",
      "Vertex 360 is removed. NMI&ECS: [1.0000000000000002, 1.0, 1.0, 1.0]\n",
      "Vertex 652 is removed. "
     ]
    },
    {
     "data": {
      "image/png": "[encoded data removed]",
      "text/plain": [
       "<Figure size 432x288 with 4 Axes>"
      ]
     },
     "metadata": {
      "needs_background": "light"
     },
     "output_type": "display_data"
    },
    {
     "name": "stdout",
     "output_type": "stream",
     "text": [
      "CPU times: user 1min 57s, sys: 2min 34s, total: 4min 32s\n",
      "Wall time: 3.49 s\n"
     ]
    }
   ],
   "source": [
    "%%time\n",
    "### 2 Laplacian 方法\n",
    "from gem.embedding.lap import LaplacianEigenmaps\n",
    "\n",
    "idx = [True] *(G0.number_of_nodes())\n",
    "G=G0.copy()\n",
    "\n",
    "scores=[]\n",
    "\n",
    "for i in temp:\n",
    "    G.remove_node(i)\n",
    "    print(f\"Vertex {i} is removed.\", end=' ')\n",
    "    if not nx.is_connected(G):\n",
    "        print(\"In total\", temp.index(i), \"vertices are removed. G is now disconnected!!\")\n",
    "        break\n",
    "\n",
    "    lap_model = LaplacianEigenmaps(d=D)\n",
    "    embd = lap_model.learn_embedding(graph=G, is_weighted=False, no_python=True)\n",
    "    \n",
    "    idx[i] = False\n",
    "    intrin_list = intrinsic_membership[idx]\n",
    "    intrin_Clus = Clustering({i: [intrin_list[i]] for i in range(len(intrin_list))})\n",
    "    K = len(np.unique(intrinsic_membership[idx]))\n",
    "    score = EE(K,intrin_list,intrin_Clus, embd)\n",
    "    scores.append(score)\n",
    "    print(\"NMI&ECS:\", score)\n",
    "    \n",
    "quar_plot(scores=scores, disturb=False, filename=\"2LAP\", win=10)\n",
    "save_scores_to_csv(scores, False, \"2LAP\")\n",
    "#Measure.append(scores)"
   ]
  },
  {
   "cell_type": "code",
   "execution_count": 12,
   "id": "78b74e15",
   "metadata": {
    "scrolled": true
   },
   "outputs": [
    {
     "name": "stdout",
     "output_type": "stream",
     "text": [
      "Vertex 917 is removed. NMI&ECS: [1.0, 1.0, 1.0, 1.0]\n",
      "Vertex 297 is removed. NMI&ECS: [1.0, 1.0, 1.0, 1.0]\n",
      "Vertex 393 is removed. NMI&ECS: [0.9999999999999998, 1.0, 1.0, 1.0]\n",
      "Vertex 360 is removed. NMI&ECS: [1.0, 1.0, 1.0, 1.0]\n",
      "Vertex 652 is removed. "
     ]
    },
    {
     "data": {
      "image/png": "[encoded data removed]",
      "text/plain": [
       "<Figure size 432x288 with 4 Axes>"
      ]
     },
     "metadata": {
      "needs_background": "light"
     },
     "output_type": "display_data"
    },
    {
     "name": "stdout",
     "output_type": "stream",
     "text": [
      "CPU times: user 3min 8s, sys: 4min 48s, total: 7min 57s\n",
      "Wall time: 6.11 s\n"
     ]
    }
   ],
   "source": [
    "%%time\n",
    "### 3 LLE 方法\n",
    "from auxpack.lle import lle\n",
    "\n",
    "idx = [True] *(G0.number_of_nodes())\n",
    "G=G0.copy()\n",
    "\n",
    "scores=[]\n",
    "\n",
    "for i in temp:\n",
    "    G.remove_node(i)\n",
    "    print(f\"Vertex {i} is removed.\", end=' ')\n",
    "    if not nx.is_connected(G):\n",
    "        print(\"In total\", temp.index(i), \"vertices are removed. G is now disconnected!!\")\n",
    "        break\n",
    "\n",
    "    embd = lle(G, D)\n",
    "    \n",
    "    idx[i] = False\n",
    "    intrin_list = intrinsic_membership[idx]\n",
    "    intrin_Clus = Clustering({i: [intrin_list[i]] for i in range(len(intrin_list))})\n",
    "    K = len(np.unique(intrinsic_membership[idx]))\n",
    "    score = EE(K,intrin_list,intrin_Clus, embd)\n",
    "    scores.append(score)\n",
    "    print(\"NMI&ECS:\", score)\n",
    "    \n",
    "quar_plot(scores=scores, disturb=False, filename=\"3LLE\", win=10)\n",
    "save_scores_to_csv(scores, False, \"3LLE\")\n",
    "#Measure.append(scores)"
   ]
  },
  {
   "cell_type": "code",
   "execution_count": 13,
   "id": "eba6bac4",
   "metadata": {
    "scrolled": true
   },
   "outputs": [
    {
     "name": "stdout",
     "output_type": "stream",
     "text": [
      "Vertex 917 is removed. NMI&ECS: [1.0, 1.0, 1.0, 1.0]\n",
      "Vertex 297 is removed. NMI&ECS: [1.0, 1.0, 1.0, 1.0]\n",
      "Vertex 393 is removed. NMI&ECS: [0.9999999999999998, 1.0, 1.0, 1.0]\n",
      "Vertex 360 is removed. NMI&ECS: [1.0000000000000002, 1.0000000000000002, 1.0, 1.0]\n",
      "Vertex 652 is removed. "
     ]
    },
    {
     "data": {
      "image/png": "[encoded data removed]",
      "text/plain": [
       "<Figure size 432x288 with 4 Axes>"
      ]
     },
     "metadata": {
      "needs_background": "light"
     },
     "output_type": "display_data"
    },
    {
     "name": "stdout",
     "output_type": "stream",
     "text": [
      "CPU times: user 1min 47s, sys: 1min 51s, total: 3min 39s\n",
      "Wall time: 15.2 s\n"
     ]
    }
   ],
   "source": [
    "%%time\n",
    "### 4 DeepWalk方法\n",
    "from auxpack.DeepWalk import DeepWalk\n",
    "\n",
    "idx = [True] *(G0.number_of_nodes())\n",
    "G=G0.copy()\n",
    "\n",
    "scores=[]\n",
    "\n",
    "for i in temp:\n",
    "    G.remove_node(i)\n",
    "    print(f\"Vertex {i} is removed.\", end=' ')\n",
    "    if not nx.is_connected(G):\n",
    "        print(\"In total\", temp.index(i), \"vertices are removed. G is now disconnected!!\")\n",
    "        break\n",
    " \n",
    "    model = DeepWalk(dimensions=D, walk_length=16, window_size=10, walk_number=10, workers=wk)\n",
    "    model.fit(G)\n",
    "    embd = model.get_embedding()\n",
    "    \n",
    "    idx[i] = False\n",
    "    intrin_list = intrinsic_membership[idx]\n",
    "    intrin_Clus = Clustering({i: [intrin_list[i]] for i in range(len(intrin_list))})\n",
    "    K = len(np.unique(intrinsic_membership[idx]))\n",
    "    score = EE(K,intrin_list,intrin_Clus, embd)\n",
    "    scores.append(score)\n",
    "    print(\"NMI&ECS:\", score)\n",
    "    \n",
    "quar_plot(scores=scores, disturb=False, filename=\"4DeepWalk\", win=10)\n",
    "save_scores_to_csv(scores, False, \"4DeepWalk\")\n",
    "#Measure.append(scores)"
   ]
  },
  {
   "cell_type": "code",
   "execution_count": 14,
   "id": "38ad6a43",
   "metadata": {
    "scrolled": true
   },
   "outputs": [
    {
     "name": "stdout",
     "output_type": "stream",
     "text": [
      "Vertex 917 is removed. NMI&ECS: [1.0, 1.0, 1.0, 1.0]\n",
      "Vertex 297 is removed. NMI&ECS: [1.0, 1.0, 1.0, 1.0]\n",
      "Vertex 393 is removed. NMI&ECS: [1.0, 1.0, 1.0, 1.0]\n",
      "Vertex 360 is removed. NMI&ECS: [1.0000000000000002, 1.0000000000000002, 1.0, 1.0]\n",
      "Vertex 652 is removed. "
     ]
    },
    {
     "data": {
      "image/png": "[encoded data removed]",
      "text/plain": [
       "<Figure size 432x288 with 4 Axes>"
      ]
     },
     "metadata": {
      "needs_background": "light"
     },
     "output_type": "display_data"
    },
    {
     "name": "stdout",
     "output_type": "stream",
     "text": [
      "CPU times: user 4min 17s, sys: 11min 2s, total: 15min 19s\n",
      "Wall time: 14 s\n"
     ]
    }
   ],
   "source": [
    "%%time\n",
    "### 5 MNMF 方法\n",
    "from karateclub import MNMF\n",
    "\n",
    "idx = [True] *(G0.number_of_nodes())\n",
    "G=G0.copy()\n",
    "\n",
    "scores=[]\n",
    "\n",
    "for i in temp:\n",
    "    G.remove_node(i)\n",
    "    print(f\"Vertex {i} is removed.\", end=' ')\n",
    "    if not nx.is_connected(G):\n",
    "        print(\"In total\", temp.index(i), \"vertices are removed. G is now disconnected!!\")\n",
    "        break\n",
    "\n",
    "    # Create an instance of the MNMF model\n",
    "    MNMF_model = MNMF(dimensions = D, clusters = K, lambd = 0.2, \n",
    "                 alpha = 0.05, beta = 0.05, iterations = 100, \n",
    "                 lower_control = 1e-15, eta = 5.0, seed = 42)\n",
    "\n",
    "    # Fit the model to the graph\n",
    "    H = nx.relabel.convert_node_labels_to_integers(G)\n",
    "    MNMF_model.fit(H)\n",
    "    # Obtain the graph embeddings\n",
    "    embd = MNMF_model.get_embedding()\n",
    "    \n",
    "    idx[i] = False\n",
    "    intrin_list = intrinsic_membership[idx]\n",
    "    intrin_Clus = Clustering({i: [intrin_list[i]] for i in range(len(intrin_list))})\n",
    "    K = len(np.unique(intrinsic_membership[idx]))\n",
    "    score = EE(K,intrin_list,intrin_Clus, embd)\n",
    "    scores.append(score)\n",
    "    print(\"NMI&ECS:\", score)\n",
    "    \n",
    "quar_plot(scores=scores, disturb=False, filename=\"5MNMF\", win=10)\n",
    "save_scores_to_csv(scores, False, \"5MNMF\")\n",
    "#Measure.append(scores)"
   ]
  },
  {
   "cell_type": "code",
   "execution_count": 16,
   "id": "62bebfc5",
   "metadata": {
    "scrolled": true
   },
   "outputs": [
    {
     "name": "stdout",
     "output_type": "stream",
     "text": [
      "Vertex 917 is removed. "
     ]
    },
    {
     "name": "stderr",
     "output_type": "stream",
     "text": [
      "2023-07-05 02:16:02.997531: I tensorflow/core/platform/cpu_feature_guard.cc:193] This TensorFlow binary is optimized with oneAPI Deep Neural Network Library (oneDNN) to use the following CPU instructions in performance-critical operations:  AVX2 FMA\n",
      "To enable them in other operations, rebuild TensorFlow with the appropriate compiler flags.\n",
      "2023-07-05 02:16:03.888103: I tensorflow/core/common_runtime/gpu/gpu_device.cc:1532] Created device /job:localhost/replica:0/task:0/device:GPU:0 with 731 MB memory:  -> device: 0, name: NVIDIA A100-SXM4-40GB, pci bus id: 0000:02:00.0, compute capability: 8.0\n",
      "2023-07-05 02:16:03.889494: I tensorflow/core/common_runtime/gpu/gpu_device.cc:1532] Created device /job:localhost/replica:0/task:0/device:GPU:1 with 37692 MB memory:  -> device: 1, name: NVIDIA A100-SXM4-40GB, pci bus id: 0000:41:00.0, compute capability: 8.0\n"
     ]
    },
    {
     "name": "stdout",
     "output_type": "stream",
     "text": [
      "NMI&ECS: [1.0, 1.0, 1.0, 1.0]\n",
      "Vertex 297 is removed. NMI&ECS: [1.0, 1.0, 1.0, 1.0]\n",
      "Vertex 393 is removed. NMI&ECS: [1.0, 1.0, 1.0, 1.0]\n",
      "Vertex 360 is removed. "
     ]
    },
    {
     "data": {
      "image/png": "[encoded data removed]",
      "text/plain": [
       "<Figure size 432x288 with 4 Axes>"
      ]
     },
     "metadata": {
      "needs_background": "light"
     },
     "output_type": "display_data"
    },
    {
     "name": "stdout",
     "output_type": "stream",
     "text": [
      "CPU times: user 1min 35s, sys: 1min 23s, total: 2min 58s\n",
      "Wall time: 25.2 s\n"
     ]
    }
   ],
   "source": [
    "%%time\n",
    "### 6 LINE 方法\n",
    "from ge import LINE\n",
    "\n",
    "idx = [True] *(G0.number_of_nodes())\n",
    "G=G0.copy()\n",
    "\n",
    "scores=[]\n",
    "\n",
    "for i in temp:\n",
    "    G.remove_node(i)\n",
    "    print(f\"Vertex {i} is removed.\", end=' ')\n",
    "    if not nx.is_connected(G):\n",
    "        print(\"In total\", temp.index(i), \"vertices are removed. G is now disconnected!!\")\n",
    "        break\n",
    "        \n",
    "    model = LINE(G,embedding_size=D,order='first');\n",
    "    model.train(batch_size=8192,epochs=50,verbose=0);# train model\n",
    "    LINE_embd = model.get_embeddings();# get embedding vectors\n",
    "    embd = list(LINE_embd.values())\n",
    "    \n",
    "    idx[i] = False\n",
    "    intrin_list = intrinsic_membership[idx]\n",
    "    intrin_Clus = Clustering({i: [intrin_list[i]] for i in range(len(intrin_list))})\n",
    "    K = len(np.unique(intrinsic_membership[idx]))\n",
    "    score = EE(K,intrin_list,intrin_Clus, embd)\n",
    "    scores.append(score)\n",
    "    print(\"NMI&ECS:\", score)\n",
    "    \n",
    "quar_plot(scores=scores, disturb=False, filename=\"6LINE\", win=10)\n",
    "save_scores_to_csv(scores, False, \"6LINE\")\n",
    "#Measure.append(scores)"
   ]
  },
  {
   "cell_type": "code",
   "execution_count": 15,
   "id": "8f7c63f5",
   "metadata": {
    "scrolled": true
   },
   "outputs": [
    {
     "name": "stdout",
     "output_type": "stream",
     "text": [
      "Vertex 917 is removed. NMI&ECS: [1.0, 1.0, 1.0, 1.0]\n",
      "Vertex 297 is removed. NMI&ECS: [1.0, 1.0, 1.0, 1.0]\n",
      "Vertex 393 is removed. NMI&ECS: [0.9999999999999998, 1.0, 1.0, 1.0]\n",
      "Vertex 360 is removed. NMI&ECS: [1.0, 1.0000000000000002, 1.0, 1.0]\n",
      "Vertex 652 is removed. "
     ]
    },
    {
     "data": {
      "image/png": "[encoded data removed]",
      "text/plain": [
       "<Figure size 432x288 with 4 Axes>"
      ]
     },
     "metadata": {
      "needs_background": "light"
     },
     "output_type": "display_data"
    },
    {
     "name": "stdout",
     "output_type": "stream",
     "text": [
      "CPU times: user 2min 56s, sys: 2min 2s, total: 4min 59s\n",
      "Wall time: 1min 11s\n"
     ]
    }
   ],
   "source": [
    "%%time\n",
    "### 7 Node2Vec 方法 以后使用这个\n",
    "from node2vec import Node2Vec\n",
    "\n",
    "nodes_range = np.array(range(G0.number_of_nodes()))\n",
    "idx = [True] *(G0.number_of_nodes())\n",
    "G=G0.copy()\n",
    "\n",
    "scores=[]\n",
    "\n",
    "for i in temp:\n",
    "    G.remove_node(i)\n",
    "    print(f\"Vertex {i} is removed.\", end=' ')\n",
    "    if not nx.is_connected(G):\n",
    "        print(\"In total\", temp.index(i), \"vertices are removed. G is now disconnected!!\")\n",
    "        break\n",
    "    \n",
    "    # Precompute probabilities and generate walks - **ON WINDOWS ONLY WORKS WITH workers=1**\n",
    "    node2vec_model = Node2Vec(G, dimensions=D, walk_length=16, num_walks=10, workers=wk, quiet=True) #, temp_folder='test' # Use temp_folder for big graphs\n",
    "    # Embed nodes \n",
    "    node2vec_fit = node2vec_model.fit(window=10, min_count=1, batch_words=20000)  \n",
    "    # Any keywords acceptable by gensim.Word2Vec can be passed, `dimensions` and `workers` are automatically passed \n",
    "    # (from the Node2Vec constructor)\n",
    "\n",
    "    idx[i] = False\n",
    "\n",
    "    nodes = [str(x) for x in nodes_range[idx]]\n",
    "    embd = np.array([node2vec_fit.wv[node] for node in nodes])\n",
    "    \n",
    "    intrin_list = intrinsic_membership[idx]\n",
    "    intrin_Clus = Clustering({i: [intrin_list[i]] for i in range(len(intrin_list))})\n",
    "    K = len(np.unique(intrinsic_membership[idx]))\n",
    "    score = EE(K,intrin_list,intrin_Clus, embd)\n",
    "    scores.append(score)\n",
    "    print(\"NMI&ECS:\", score)\n",
    "    \n",
    "quar_plot(scores=scores, disturb=False, filename=\"7Node2Vec\", win=10)\n",
    "save_scores_to_csv(scores, False, \"7Node2Vec\")\n",
    "#Measure.append(scores)"
   ]
  }
 ],
 "metadata": {
  "kernelspec": {
   "display_name": "Python 3 (ipykernel)",
   "language": "python",
   "name": "python3"
  },
  "language_info": {
   "codemirror_mode": {
    "name": "ipython",
    "version": 3
   },
   "file_extension": ".py",
   "mimetype": "text/x-python",
   "name": "python",
   "nbconvert_exporter": "python",
   "pygments_lexer": "ipython3",
   "version": "3.10.5"
  }
 },
 "nbformat": 4,
 "nbformat_minor": 5
}
