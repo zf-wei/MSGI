{
 "cells": [
  {
   "cell_type": "code",
   "execution_count": 1,
   "id": "0c7cfdfb",
   "metadata": {},
   "outputs": [],
   "source": [
    "import networkx as nx\n",
    "import json\n",
    "import numpy as np\n",
    "\n",
    "\n",
    "def Para_Esti(N, mu):\n",
    "    if N!=986 and N!=23748:\n",
    "        print(N, mu)\n",
    "    else:\n",
    "        print(N)\n",
    "    \n",
    "    with open(f'graph_{N}_{mu}.edgelist', 'r') as file:\n",
    "            lines = file.readlines()\n",
    "\n",
    "    ### Process the lines and create a list of number pairs\n",
    "    edge_list = []\n",
    "    for line in lines:\n",
    "        pair = tuple(map(int, line.strip().split()))\n",
    "        edge_list.append(pair)\n",
    "\n",
    "    ### 新建一个图 \n",
    "    G = nx.Graph()\n",
    "    ### 向图添加点和边\n",
    "    sorted_nodes = sorted(set(range(N)))\n",
    "    G.add_nodes_from(sorted_nodes)\n",
    "    G.add_edges_from(edge_list)\n",
    "\n",
    "    #betweenness = list(nx.betweenness_centrality(G).values())\n",
    "    #betweenness_output_file = f\"graph_{N}_{mu}.between\"\n",
    "\n",
    "    components = list(nx.connected_components(G))\n",
    "\n",
    "    # Find the largest component\n",
    "    largest_component = max(components, key=len)\n",
    "\n",
    "    from networkx.algorithms.community.quality import modularity\n",
    "\n",
    "\n",
    "    global_clustering_coefficient = nx.average_clustering(G)\n",
    "\n",
    "    print(\"Global Clustering Coefficient:\", global_clustering_coefficient)\n",
    "\n",
    "    # Read group assignments from a text file\n",
    "    with open(f'graph_{N}_0.01.membership', 'r') as file:\n",
    "        group_assignments = [int(line.strip()) for line in file]\n",
    "\n",
    "    # Create communities based on group assignments\n",
    "    communities = {}\n",
    "    for node, group_id in enumerate(group_assignments):\n",
    "        if group_id in communities:\n",
    "            communities[group_id].add(node)\n",
    "        else:\n",
    "            communities[group_id] = {node}\n",
    "\n",
    "    # Calculate modularity\n",
    "    modularity_value = modularity(G, list(communities.values()))\n",
    "    print(\"Modularity:\", modularity_value)\n",
    "\n",
    "    # Calculate conductance for each community\n",
    "    conductance_values = []\n",
    "\n",
    "    for group_id, community in communities.items():\n",
    "        external_edges = len(set(edge for edge in G.edges(community) if not (edge[0] in community and edge[1] in community)))\n",
    "        internal_edges = len(G.edges(community))\n",
    "        conductance_value = external_edges / (external_edges + internal_edges)\n",
    "        conductance_values.append(conductance_value)\n",
    "        #print(f\"Conductance for Group {group_id}:\", conductance_value)\n",
    "\n",
    "    mean_conductance = sum(conductance_values) / len(conductance_values)\n",
    "    print(\"Mean Conductance:\", mean_conductance)"
   ]
  },
  {
   "cell_type": "code",
   "execution_count": 2,
   "id": "966aa60b",
   "metadata": {
    "scrolled": true
   },
   "outputs": [
    {
     "name": "stdout",
     "output_type": "stream",
     "text": [
      "986\n",
      "Global Clustering Coefficient: 0.40705044751953845\n",
      "Modularity: 0.31304012017785127\n",
      "Mean Conductance: 0.455387417940474\n"
     ]
    }
   ],
   "source": [
    "Para_Esti(986, 0.01)"
   ]
  },
  {
   "cell_type": "code",
   "execution_count": 3,
   "id": "51eb1865",
   "metadata": {},
   "outputs": [
    {
     "name": "stdout",
     "output_type": "stream",
     "text": [
      "1000 0.01\n",
      "Global Clustering Coefficient: 0.5799343368273093\n",
      "Modularity: 0.9049546963208295\n",
      "Mean Conductance: 0.012298757379969438\n"
     ]
    }
   ],
   "source": [
    "Para_Esti(1000, 0.01)"
   ]
  },
  {
   "cell_type": "code",
   "execution_count": 4,
   "id": "bdea08d8",
   "metadata": {},
   "outputs": [
    {
     "name": "stdout",
     "output_type": "stream",
     "text": [
      "10000 0.01\n",
      "Global Clustering Coefficient: 0.4106393337522117\n",
      "Modularity: 0.9176956151414903\n",
      "Mean Conductance: 0.01673180033950308\n"
     ]
    }
   ],
   "source": [
    "Para_Esti(10000, 0.01)"
   ]
  },
  {
   "cell_type": "code",
   "execution_count": 5,
   "id": "ae10b561",
   "metadata": {},
   "outputs": [
    {
     "name": "stdout",
     "output_type": "stream",
     "text": [
      "23748\n",
      "Global Clustering Coefficient: 0.36040401927254917\n",
      "Modularity: 0.1708071608921425\n",
      "Mean Conductance: 0.45370298208977905\n"
     ]
    }
   ],
   "source": [
    "Para_Esti(23748, 0.01)"
   ]
  }
 ],
 "metadata": {
  "kernelspec": {
   "display_name": "Python 3 (ipykernel)",
   "language": "python",
   "name": "python3"
  },
  "language_info": {
   "codemirror_mode": {
    "name": "ipython",
    "version": 3
   },
   "file_extension": ".py",
   "mimetype": "text/x-python",
   "name": "python",
   "nbconvert_exporter": "python",
   "pygments_lexer": "ipython3",
   "version": "3.10.5"
  }
 },
 "nbformat": 4,
 "nbformat_minor": 5
}
