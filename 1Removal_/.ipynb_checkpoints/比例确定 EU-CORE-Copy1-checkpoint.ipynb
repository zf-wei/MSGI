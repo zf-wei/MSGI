{
 "cells": [
  {
   "cell_type": "code",
   "execution_count": 1,
   "id": "0c7cfdfb",
   "metadata": {},
   "outputs": [
    {
     "name": "stdout",
     "output_type": "stream",
     "text": [
      "True\n",
      "1000\n"
     ]
    }
   ],
   "source": [
    "import networkx as nx\n",
    "import json\n",
    "import numpy as np\n",
    "\n",
    "\n",
    "N=1000\n",
    "mu=0.5\n",
    "\n",
    "with open(f'graph_{N}_{mu}.edgelist', 'r') as file:\n",
    "        lines = file.readlines()\n",
    "\n",
    "### Process the lines and create a list of number pairs\n",
    "edge_list = []\n",
    "for line in lines:\n",
    "    pair = tuple(map(int, line.strip().split()))\n",
    "    edge_list.append(pair)\n",
    "\n",
    "### 新建一个图 \n",
    "G = nx.Graph()\n",
    "### 向图添加点和边\n",
    "sorted_nodes = sorted(set(range(N)))\n",
    "G.add_nodes_from(sorted_nodes)\n",
    "G.add_edges_from(edge_list)\n",
    "\n",
    "print(nx.is_connected(G))\n",
    "\n",
    "#betweenness = list(nx.betweenness_centrality(G).values())\n",
    "#betweenness_output_file = f\"graph_{N}_{mu}.between\"\n",
    "\n",
    "components = list(nx.connected_components(G))\n",
    "\n",
    "# Find the largest component\n",
    "largest_component = max(components, key=len)\n",
    "\n",
    "# Get the size (number of nodes) of the largest component\n",
    "largest_component_size = len(largest_component)\n",
    "print(largest_component_size)"
   ]
  },
  {
   "cell_type": "code",
   "execution_count": 2,
   "id": "966aa60b",
   "metadata": {
    "scrolled": true
   },
   "outputs": [
    {
     "name": "stdout",
     "output_type": "stream",
     "text": [
      "Global Clustering Coefficient: 0.06974851378149702\n",
      "Modularity: -0.001857292121896263\n",
      "Conductance for Group 11: 0.4866877971473851\n",
      "Conductance for Group 3: 0.483809781872375\n",
      "Conductance for Group 10: 0.49271425043220546\n",
      "Conductance for Group 7: 0.4871594112120263\n",
      "Conductance for Group 6: 0.48877146631439894\n",
      "Conductance for Group 4: 0.49135802469135803\n",
      "Conductance for Group 8: 0.4911730090231463\n",
      "Conductance for Group 1: 0.49216552832462834\n",
      "Conductance for Group 5: 0.4910037878787879\n",
      "Conductance for Group 0: 0.49011323305729254\n",
      "Conductance for Group 2: 0.4918375889493512\n",
      "Conductance for Group 9: 0.48346890579900287\n"
     ]
    }
   ],
   "source": [
    "from networkx.algorithms.community.quality import modularity\n",
    "\n",
    "\n",
    "global_clustering_coefficient = nx.average_clustering(G)\n",
    "\n",
    "print(\"Global Clustering Coefficient:\", global_clustering_coefficient)\n",
    "\n",
    "# Read group assignments from a text file\n",
    "with open(f'graph_{N}_0.01.membership', 'r') as file:\n",
    "    group_assignments = [int(line.strip()) for line in file]\n",
    "\n",
    "# Create communities based on group assignments\n",
    "communities = {}\n",
    "for node, group_id in enumerate(group_assignments):\n",
    "    if group_id in communities:\n",
    "        communities[group_id].add(node)\n",
    "    else:\n",
    "        communities[group_id] = {node}\n",
    "\n",
    "# Calculate modularity\n",
    "modularity_value = modularity(G, list(communities.values()))\n",
    "print(\"Modularity:\", modularity_value)\n",
    "\n",
    "# Calculate conductance for each community\n",
    "for group_id, community in communities.items():\n",
    "    external_edges = len(set(edge for edge in G.edges(community) if not (edge[0] in community and edge[1] in community)))\n",
    "    internal_edges = len(G.edges(community))\n",
    "    conductance_value = external_edges / (external_edges + internal_edges)\n",
    "    print(f\"Conductance for Group {group_id}:\", conductance_value)\n"
   ]
  }
 ],
 "metadata": {
  "kernelspec": {
   "display_name": "Python 3 (ipykernel)",
   "language": "python",
   "name": "python3"
  },
  "language_info": {
   "codemirror_mode": {
    "name": "ipython",
    "version": 3
   },
   "file_extension": ".py",
   "mimetype": "text/x-python",
   "name": "python",
   "nbconvert_exporter": "python",
   "pygments_lexer": "ipython3",
   "version": "3.10.5"
  }
 },
 "nbformat": 4,
 "nbformat_minor": 5
}
