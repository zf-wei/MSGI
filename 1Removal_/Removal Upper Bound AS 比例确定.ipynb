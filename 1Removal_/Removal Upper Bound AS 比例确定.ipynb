{
 "cells": [
  {
   "cell_type": "code",
   "execution_count": 1,
   "id": "27942deb",
   "metadata": {},
   "outputs": [
    {
     "name": "stdout",
     "output_type": "stream",
     "text": [
      "True\n",
      "23748\n"
     ]
    }
   ],
   "source": [
    "import networkx as nx\n",
    "import json\n",
    "import numpy as np\n",
    "\n",
    "\n",
    "N=23748\n",
    "mu=0.01\n",
    "\n",
    "with open(f'graph_{N}_{mu}.edgelist', 'r') as file:\n",
    "        lines = file.readlines()\n",
    "\n",
    "### Process the lines and create a list of number pairs\n",
    "edge_list = []\n",
    "for line in lines:\n",
    "    pair = tuple(map(int, line.strip().split()))\n",
    "    edge_list.append(pair)\n",
    "\n",
    "### 新建一个图 \n",
    "G = nx.Graph()\n",
    "### 向图添加点和边\n",
    "sorted_nodes = sorted(set(range(N)))\n",
    "G.add_nodes_from(sorted_nodes)\n",
    "G.add_edges_from(edge_list)\n",
    "\n",
    "print(nx.is_connected(G))\n",
    "\n",
    "#betweenness = list(nx.betweenness_centrality(G).values())\n",
    "#betweenness_output_file = f\"graph_{N}_{mu}.between\"\n",
    "\n",
    "components = list(nx.connected_components(G))\n",
    "\n",
    "# Find the largest component\n",
    "largest_component = max(components, key=len)\n",
    "\n",
    "# Get the size (number of nodes) of the largest component\n",
    "largest_component_size = len(largest_component)\n",
    "print(largest_component_size)"
   ]
  },
  {
   "cell_type": "code",
   "execution_count": 2,
   "id": "1d00282e",
   "metadata": {
    "scrolled": true
   },
   "outputs": [
    {
     "name": "stdout",
     "output_type": "stream",
     "text": [
      "164\n",
      "146\n",
      "98\n",
      "85\n",
      "72\n",
      "52\n",
      "49\n",
      "40\n",
      "31\n",
      "22\n"
     ]
    }
   ],
   "source": [
    "import time\n",
    "import random\n",
    "\n",
    "prop_values = [0.0001, 0.0002, 0.0003, 0.0004, 0.0005, 0.0006, 0.0007, 0.0008, 0.0009, 0.001]\n",
    "for prop in prop_values:\n",
    "    num = 0\n",
    "    for i in range(200):\n",
    "        # Generate a new random seed using the current system time\n",
    "        random_seed = int(time.time())+i\n",
    "        # Set the random seed\n",
    "        np.random.seed(random_seed)\n",
    "        random.seed(random_seed)\n",
    "        removed_nodes = np.random.choice(range(N), size=int(prop*N), replace=False)\n",
    "        G_1=G.copy()\n",
    "        G_1.remove_nodes_from(removed_nodes)\n",
    "        if nx.is_connected(G_1):\n",
    "            num = num+1\n",
    "    print(num)"
   ]
  },
  {
   "cell_type": "code",
   "execution_count": 3,
   "id": "fbe7a747",
   "metadata": {},
   "outputs": [],
   "source": [
    "# So the removal proportion upper bound for AS is taken as 0.1 percent\n",
    "# 所以 AS 网络的上界就用 千分之一"
   ]
  }
 ],
 "metadata": {
  "kernelspec": {
   "display_name": "Python 3 (ipykernel)",
   "language": "python",
   "name": "python3"
  },
  "language_info": {
   "codemirror_mode": {
    "name": "ipython",
    "version": 3
   },
   "file_extension": ".py",
   "mimetype": "text/x-python",
   "name": "python",
   "nbconvert_exporter": "python",
   "pygments_lexer": "ipython3",
   "version": "3.10.5"
  }
 },
 "nbformat": 4,
 "nbformat_minor": 5
}
