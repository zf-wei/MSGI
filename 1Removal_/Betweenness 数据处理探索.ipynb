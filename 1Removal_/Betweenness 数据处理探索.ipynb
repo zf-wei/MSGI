{
 "cells": [
  {
   "cell_type": "code",
   "execution_count": 2,
   "id": "84b6e775",
   "metadata": {},
   "outputs": [],
   "source": [
    "import numpy as np"
   ]
  },
  {
   "cell_type": "code",
   "execution_count": 10,
   "id": "7d7522fe",
   "metadata": {},
   "outputs": [
    {
     "name": "stdout",
     "output_type": "stream",
     "text": [
      "The maximum value among all files is: 0.04443232109461541\n"
     ]
    }
   ],
   "source": [
    "import numpy as np\n",
    "\n",
    "N_values = [1000, 10000]\n",
    "mu_values = [0.01, 0.1, 0.2, 0.3, 0.4, 0.5]\n",
    "\n",
    "max_values = []\n",
    "\n",
    "for N in N_values:\n",
    "    for mu in mu_values:\n",
    "        btwn_file = f'graph_{N}_{mu}.between'\n",
    "        between = np.loadtxt(btwn_file)\n",
    "        max_value = np.max(between)\n",
    "        max_values.append(max_value)\n",
    "\n",
    "overall_max = np.max(max_values)\n",
    "print(\"The maximum value among all files is:\", overall_max)"
   ]
  },
  {
   "cell_type": "code",
   "execution_count": 18,
   "id": "9426e959",
   "metadata": {},
   "outputs": [
    {
     "name": "stdout",
     "output_type": "stream",
     "text": [
      "6.313751514675041\n"
     ]
    }
   ],
   "source": [
    "import math\n",
    "\n",
    "result = math.tan(0.45 * math.pi)\n",
    "print(result)"
   ]
  }
 ],
 "metadata": {
  "kernelspec": {
   "display_name": "Python 3 (ipykernel)",
   "language": "python",
   "name": "python3"
  },
  "language_info": {
   "codemirror_mode": {
    "name": "ipython",
    "version": 3
   },
   "file_extension": ".py",
   "mimetype": "text/x-python",
   "name": "python",
   "nbconvert_exporter": "python",
   "pygments_lexer": "ipython3",
   "version": "3.10.5"
  }
 },
 "nbformat": 4,
 "nbformat_minor": 5
}
