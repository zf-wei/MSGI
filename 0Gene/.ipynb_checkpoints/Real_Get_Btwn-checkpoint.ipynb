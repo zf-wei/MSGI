{
 "cells": [
  {
   "cell_type": "code",
   "execution_count": 1,
   "id": "87b1b8e2",
   "metadata": {},
   "outputs": [],
   "source": [
    "import networkx as nx\n",
    "import json\n",
    "import numpy as np\n",
    "\n",
    "\n",
    "def graph_get_btwn(N: int, mu: list):\n",
    "\n",
    "    with open(f'graph_{N}_{mu}.edgelist', 'r') as file:\n",
    "        lines = file.readlines()\n",
    "\n",
    "    ### Process the lines and create a list of number pairs\n",
    "    edge_list = []\n",
    "    for line in lines:\n",
    "        pair = tuple(map(int, line.strip().split()))\n",
    "        edge_list.append(pair)\n",
    "\n",
    "    ### 新建一个图 \n",
    "    G = nx.Graph()\n",
    "    ### 向图添加点和边\n",
    "    sorted_nodes = sorted(set(range(N)))\n",
    "    G.add_nodes_from(sorted_nodes)\n",
    "    G.add_edges_from(edge_list)\n",
    "    \n",
    "    print(nx.is_connected(G))\n",
    "    \n",
    "    #betweenness = list(nx.betweenness_centrality(G).values())\n",
    "    #betweenness_output_file = f\"graph_{N}_{mu}.between\"\n",
    "    \n",
    "    components = list(nx.connected_components(G))\n",
    "\n",
    "    # Find the largest component\n",
    "    largest_component = max(components, key=len)\n",
    "\n",
    "    # Get the size (number of nodes) of the largest component\n",
    "    largest_component_size = len(largest_component)\n",
    "    print(largest_component_size)\n",
    "\n",
    "    np.savetxt(betweenness_output_file, betweenness, delimiter=' ')\n",
    "    print(sum(betweenness))"
   ]
  },
  {
   "cell_type": "code",
   "execution_count": 2,
   "id": "b9189736",
   "metadata": {
    "scrolled": true
   },
   "outputs": [
    {
     "name": "stdout",
     "output_type": "stream",
     "text": [
      "False\n",
      "986\n"
     ]
    },
    {
     "ename": "NameError",
     "evalue": "name 'betweenness_output_file' is not defined",
     "output_type": "error",
     "traceback": [
      "\u001b[0;31m---------------------------------------------------------------------------\u001b[0m",
      "\u001b[0;31mNameError\u001b[0m                                 Traceback (most recent call last)",
      "Input \u001b[0;32mIn [2]\u001b[0m, in \u001b[0;36m<cell line: 1>\u001b[0;34m()\u001b[0m\n\u001b[0;32m----> 1\u001b[0m \u001b[43mgraph_get_btwn\u001b[49m\u001b[43m(\u001b[49m\u001b[43mN\u001b[49m\u001b[38;5;241;43m=\u001b[39;49m\u001b[38;5;241;43m1005\u001b[39;49m\u001b[43m,\u001b[49m\u001b[43m \u001b[49m\u001b[43mmu\u001b[49m\u001b[38;5;241;43m=\u001b[39;49m\u001b[38;5;241;43m0.01\u001b[39;49m\u001b[43m)\u001b[49m\n",
      "Input \u001b[0;32mIn [1]\u001b[0m, in \u001b[0;36mgraph_get_btwn\u001b[0;34m(N, mu)\u001b[0m\n\u001b[1;32m     35\u001b[0m largest_component_size \u001b[38;5;241m=\u001b[39m \u001b[38;5;28mlen\u001b[39m(largest_component)\n\u001b[1;32m     36\u001b[0m \u001b[38;5;28mprint\u001b[39m(largest_component_size)\n\u001b[0;32m---> 38\u001b[0m np\u001b[38;5;241m.\u001b[39msavetxt(\u001b[43mbetweenness_output_file\u001b[49m, betweenness, delimiter\u001b[38;5;241m=\u001b[39m\u001b[38;5;124m'\u001b[39m\u001b[38;5;124m \u001b[39m\u001b[38;5;124m'\u001b[39m)\n\u001b[1;32m     39\u001b[0m \u001b[38;5;28mprint\u001b[39m(\u001b[38;5;28msum\u001b[39m(betweenness))\n",
      "\u001b[0;31mNameError\u001b[0m: name 'betweenness_output_file' is not defined"
     ]
    }
   ],
   "source": [
    "graph_get_btwn(N=1005, mu=0.01)"
   ]
  }
 ],
 "metadata": {
  "kernelspec": {
   "display_name": "Python 3 (ipykernel)",
   "language": "python",
   "name": "python3"
  },
  "language_info": {
   "codemirror_mode": {
    "name": "ipython",
    "version": 3
   },
   "file_extension": ".py",
   "mimetype": "text/x-python",
   "name": "python",
   "nbconvert_exporter": "python",
   "pygments_lexer": "ipython3",
   "version": "3.10.5"
  }
 },
 "nbformat": 4,
 "nbformat_minor": 5
}
