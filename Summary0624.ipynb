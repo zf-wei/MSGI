{
 "cells": [
  {
   "cell_type": "code",
   "execution_count": 1,
   "id": "4f51c338",
   "metadata": {},
   "outputs": [],
   "source": [
    "import warnings\n",
    "warnings.filterwarnings('ignore')\n",
    "warnings.filterwarnings(\"ignore\", category=UserWarning, module=\"gensim.models\")\n",
    "\n",
    "import os\n",
    "os.environ['PYSPARK_LOG_LEVEL'] = 'ERROR'  # Set the log level to ERROR or higher\n",
    "\n",
    "import logging\n",
    "logging.getLogger('node2vec').setLevel(logging.ERROR)"
   ]
  },
  {
   "cell_type": "code",
   "execution_count": 2,
   "id": "09f44d15",
   "metadata": {},
   "outputs": [],
   "source": [
    "### 使用 networkx 包中的函数 LFR_benchmark_graph 生成随机图\n",
    "import networkx as nx\n",
    "from networkx.generators.community import LFR_benchmark_graph\n",
    "\n",
    "n = 1000\n",
    "tau1 = 2  # Power-law exponent for the degree distribution\n",
    "tau2 = 1.1 # Power-law exponent for the community size distribution \n",
    "            #S hould be >1\n",
    "mu = 0.05 # Mixing parameter\n",
    "avg_deg = 25 # Average Degree\n",
    "max_deg = 100 # Max Degree\n",
    "min_commu = 50 # Min Community Size\n",
    "max_commu = 100 # Max Community Size\n",
    "\n",
    "\n",
    "G = LFR_benchmark_graph(\n",
    "    n, tau1, tau2, mu, average_degree=avg_deg, max_degree=max_deg, min_community=min_commu, max_community=max_commu, \n",
    "    seed=2\n",
    ")\n",
    "\n",
    "# nx.draw(G, pos=nx.spring_layout(G),node_color='r', node_size=3, edge_color='b')  # Draw the graph generated above"
   ]
  },
  {
   "cell_type": "code",
   "execution_count": 3,
   "id": "d6080beb",
   "metadata": {},
   "outputs": [],
   "source": [
    "### 去掉 G 中的重边和自环 \n",
    "G = nx.Graph(G) # Remove multi-edges\n",
    "\n",
    "selfloop_edges = list(nx.selfloop_edges(G)) # a list of self loops\n",
    "\n",
    "G.remove_edges_from(selfloop_edges) # Remove self-loops"
   ]
  },
  {
   "cell_type": "code",
   "execution_count": 4,
   "id": "e96f2378",
   "metadata": {},
   "outputs": [],
   "source": [
    "### LFR 图是有内在的社群结构的，每个节点的社群存储在其 community 属性中，是一个 set\n",
    "# 通过运行循环，按照内在的社群结构给每个节点一个标签 即为其 intrinsic_membership\n",
    "# 为了方便 intrinsic_membership 一开始是作为一个 dict 存储的\n",
    "intrinsic_communities = {frozenset(G.nodes[v][\"community\"]) for v in G}\n",
    "intrinsic_membership = {}\n",
    "for node in range(G.number_of_nodes()):\n",
    "    for index, inner_set in enumerate(intrinsic_communities):\n",
    "        if node in inner_set:\n",
    "            intrinsic_membership[node] = index\n",
    "            break\n",
    "# intrinsic_membership = list(intrinsic_membership.values())\n",
    "\n",
    "# 存储 list 和 clustering 格式的拷贝 省得以后需要再做类型转换了\n",
    "intrinsic_list = list(intrinsic_membership.values())\n",
    "from clusim.clustering import Clustering\n",
    "intrinsic_clustering = Clustering(elm2clu_dict={i: [intrinsic_membership[i]] for i in intrinsic_membership.keys()})"
   ]
  },
  {
   "cell_type": "code",
   "execution_count": 5,
   "id": "4d78f685",
   "metadata": {},
   "outputs": [],
   "source": [
    "### 利用 Louvain 算法进行社群识别并画图\n",
    "# louvain_membership 是作为一个 dict 给出的\n",
    "from community import community_louvain\n",
    "\n",
    "louvain_membership = community_louvain.best_partition(G)"
   ]
  },
  {
   "cell_type": "code",
   "execution_count": 6,
   "id": "430920de",
   "metadata": {},
   "outputs": [],
   "source": [
    "### 利用 InfoMap 算法进行社群识别\n",
    "# 输出类型为一个 list\n",
    "\n",
    "# Convert the NetworkX graph to an igraph graph\n",
    "import igraph as ig\n",
    "iG = ig.Graph.from_networkx(G)\n",
    "\n",
    "# Perform Infomap clustering using igraph, and get the membership as a list\n",
    "infomap_membership = iG.community_infomap().membership # 类型为 list\n",
    "#print(f\"Infomap algorithm gives {max(infomap_membership)+1} communities.\")"
   ]
  },
  {
   "cell_type": "code",
   "execution_count": 7,
   "id": "3471ba2b",
   "metadata": {},
   "outputs": [
    {
     "name": "stdout",
     "output_type": "stream",
     "text": [
      "1.0\n",
      "1.0\n"
     ]
    }
   ],
   "source": [
    "### 导入计算 NMI 和 ECSim 的包 我自己封装的\n",
    "from auxpack.evaluate_clustering import NMI\n",
    "from auxpack.evaluate_clustering import ECSim as ECS\n",
    "\n",
    "### 使用范例\n",
    "print(NMI(louvain_membership, intrinsic_membership))\n",
    "print(ECS(infomap_membership, intrinsic_membership))"
   ]
  },
  {
   "cell_type": "code",
   "execution_count": 8,
   "id": "86aae8b6",
   "metadata": {},
   "outputs": [],
   "source": [
    "### 导入 图嵌入评估函数 我自己封装的\n",
    "from auxpack.evaluate_embedding import evaluate_embedding as EE"
   ]
  },
  {
   "cell_type": "code",
   "execution_count": 9,
   "id": "03d9fc45",
   "metadata": {
    "scrolled": true
   },
   "outputs": [
    {
     "name": "stdout",
     "output_type": "stream",
     "text": [
      "SVD error (low rank): 1.249493\n"
     ]
    },
    {
     "name": "stderr",
     "output_type": "stream",
     "text": [
      "Setting default log level to \"WARN\".\n",
      "To adjust logging level use sc.setLogLevel(newLevel). For SparkR, use setLogLevel(newLevel).\n",
      "23/06/24 20:16:24 WARN NativeCodeLoader: Unable to load native-hadoop library for your platform... using builtin-java classes where applicable\n",
      "23/06/24 20:16:33 WARN InstanceBuilder: Failed to load implementation from:dev.ludovic.netlib.blas.JNIBLAS\n"
     ]
    },
    {
     "name": "stdout",
     "output_type": "stream",
     "text": [
      "[0.97527600462444, 0.9725831403950279, 0.9113800000000001, 0.898695285010556]\n",
      "CPU times: user 3.79 s, sys: 5.54 s, total: 9.33 s\n",
      "Wall time: 16.3 s\n"
     ]
    }
   ],
   "source": [
    "%%time\n",
    "### 1 HOPE 方法\n",
    "from gem.embedding.hope import HOPE\n",
    "\n",
    "hope_model = HOPE(d=30, beta=0.01) \n",
    "# A higher value of beta places more emphasis on capturing higher-order proximities\n",
    "\n",
    "hope_embd = hope_model.learn_embedding(graph=G, is_weighted=False, no_python=True)\n",
    "print(EE(intrinsic_list, intrinsic_clustering, hope_embd))"
   ]
  },
  {
   "cell_type": "code",
   "execution_count": 10,
   "id": "a9f48c7a",
   "metadata": {
    "scrolled": true
   },
   "outputs": [
    {
     "name": "stdout",
     "output_type": "stream",
     "text": [
      "Laplacian matrix recon. error (low rank): 32.016612\n",
      "[0.8531029898007977, 0.964842033000676, 0.634509727616729, 0.876370101010101]\n",
      "CPU times: user 4.18 s, sys: 17.1 s, total: 21.3 s\n",
      "Wall time: 6.11 s\n"
     ]
    }
   ],
   "source": [
    "%%time\n",
    "### 2 Laplacian 方法\n",
    "from gem.embedding.lap import LaplacianEigenmaps\n",
    "lap_model = LaplacianEigenmaps(d=20)\n",
    "\n",
    "lap_embd = lap_model.learn_embedding(graph=G, is_weighted=True, no_python=True)\n",
    "print(EE(intrinsic_list, intrinsic_clustering, lap_embd))"
   ]
  },
  {
   "cell_type": "code",
   "execution_count": 11,
   "id": "d0345add",
   "metadata": {},
   "outputs": [
    {
     "name": "stdout",
     "output_type": "stream",
     "text": [
      "[0.9707822013577936, 0.9723299534490122, 0.9070599587124961, 0.9185345160969299]\n",
      "CPU times: user 1min 55s, sys: 7min 8s, total: 9min 4s\n",
      "Wall time: 14.3 s\n"
     ]
    }
   ],
   "source": [
    "%%time\n",
    "### 3 MNMF 方法\n",
    "\n",
    "from karateclub import MNMF\n",
    "\n",
    "# Create an instance of the MNMF model\n",
    "MNMF_model = MNMF(dimensions = 64, clusters = 14, lambd = 0.2, \n",
    "             alpha = 0.05, beta = 0.05, iterations = 100, \n",
    "             lower_control = 1e-15, eta = 5.0, seed = 42)\n",
    "\n",
    "# Fit the model to the graph\n",
    "MNMF_model.fit(G)\n",
    "\n",
    "# Obtain the graph embeddings\n",
    "MNMF_embd = MNMF_model.get_embedding()\n",
    "print(EE(intrinsic_list, intrinsic_clustering, MNMF_embd))"
   ]
  },
  {
   "cell_type": "code",
   "execution_count": 12,
   "id": "6f43097d",
   "metadata": {
    "scrolled": true
   },
   "outputs": [
    {
     "data": {
      "application/vnd.jupyter.widget-view+json": {
       "model_id": "bfa6373e29714487a7833d2dea4a2cce",
       "version_major": 2,
       "version_minor": 0
      },
      "text/plain": [
       "Computing transition probabilities:   0%|          | 0/1000 [00:00<?, ?it/s]"
      ]
     },
     "metadata": {},
     "output_type": "display_data"
    },
    {
     "name": "stderr",
     "output_type": "stream",
     "text": [
      "Generating walks (CPU: 1): 100%|██████████| 2/2 [00:00<00:00,  5.64it/s]\n",
      "Generating walks (CPU: 2): 100%|██████████| 2/2 [00:00<00:00,  5.43it/s]\n",
      "Generating walks (CPU: 3): 100%|██████████| 2/2 [00:00<00:00,  5.58it/s]\n",
      "Generating walks (CPU: 4): 100%|██████████| 2/2 [00:00<00:00,  5.56it/s]\n",
      "Generating walks (CPU: 5): 100%|██████████| 2/2 [00:00<00:00,  5.59it/s]\n",
      "Generating walks (CPU: 6): 100%|██████████| 2/2 [00:00<00:00,  5.62it/s]\n",
      "Generating walks (CPU: 7): 100%|██████████| 2/2 [00:00<00:00,  5.40it/s]\n",
      "Generating walks (CPU: 8): 100%|██████████| 2/2 [00:00<00:00,  5.56it/s]\n",
      "Generating walks (CPU: 9): 100%|██████████| 2/2 [00:00<00:00,  5.50it/s]\n",
      "Generating walks (CPU: 10): 100%|██████████| 2/2 [00:00<00:00,  5.65it/s]\n",
      "Generating walks (CPU: 11): 100%|██████████| 2/2 [00:00<00:00,  5.37it/s]\n",
      "Generating walks (CPU: 12): 100%|██████████| 2/2 [00:00<00:00,  5.51it/s]\n",
      "Generating walks (CPU: 13): 100%|██████████| 2/2 [00:00<00:00,  5.54it/s]\n",
      "Generating walks (CPU: 14): 100%|██████████| 2/2 [00:00<00:00,  5.57it/s]\n",
      "Generating walks (CPU: 15): 100%|██████████| 2/2 [00:00<00:00,  5.42it/s]\n",
      "Generating walks (CPU: 16): 100%|██████████| 2/2 [00:00<00:00,  5.59it/s]\n",
      "Generating walks (CPU: 17): 100%|██████████| 2/2 [00:00<00:00,  5.66it/s]\n",
      "Generating walks (CPU: 18): 100%|██████████| 2/2 [00:00<00:00,  5.67it/s]\n",
      "Generating walks (CPU: 19): 100%|██████████| 1/1 [00:00<00:00,  5.63it/s]\n",
      "Generating walks (CPU: 20): 100%|██████████| 1/1 [00:00<00:00,  5.58it/s]\n",
      "Generating walks (CPU: 21): 100%|██████████| 1/1 [00:00<00:00,  5.59it/s]\n",
      "Generating walks (CPU: 22): 100%|██████████| 1/1 [00:00<00:00,  5.62it/s]\n",
      "Generating walks (CPU: 23): 100%|██████████| 1/1 [00:00<00:00,  5.57it/s]\n",
      "Generating walks (CPU: 24): 100%|██████████| 1/1 [00:00<00:00,  5.52it/s]\n",
      "Generating walks (CPU: 25): 100%|██████████| 1/1 [00:00<00:00,  5.44it/s]\n",
      "Generating walks (CPU: 26): 100%|██████████| 1/1 [00:00<00:00,  5.52it/s]\n",
      "Generating walks (CPU: 27): 100%|██████████| 1/1 [00:00<00:00,  5.51it/s]\n",
      "Generating walks (CPU: 28): 100%|██████████| 1/1 [00:00<00:00,  5.53it/s]\n",
      "Generating walks (CPU: 29): 100%|██████████| 1/1 [00:00<00:00,  5.56it/s]\n",
      "Generating walks (CPU: 30): 100%|██████████| 1/1 [00:00<00:00,  5.54it/s]\n",
      "Generating walks (CPU: 31): 100%|██████████| 1/1 [00:00<00:00,  5.40it/s]\n",
      "Generating walks (CPU: 32): 100%|██████████| 1/1 [00:00<00:00,  6.64it/s]\n"
     ]
    },
    {
     "name": "stdout",
     "output_type": "stream",
     "text": [
      "[0.9429891194718483, 0.92669723583986, 0.8241768189509305, 0.776946785866326]\n",
      "CPU times: user 5min 9s, sys: 519 ms, total: 5min 9s\n",
      "Wall time: 35.4 s\n"
     ]
    }
   ],
   "source": [
    "%%time\n",
    "### 4 Node2Vec 方法 \n",
    "\n",
    "from node2vec import Node2Vec\n",
    "\n",
    "# Precompute probabilities and generate walks - **ON WINDOWS ONLY WORKS WITH workers=1**\n",
    "node2vec_model = Node2Vec(G, dimensions=64, walk_length=30, num_walks=50, workers=32) #, temp_folder='test' # Use temp_folder for big graphs\n",
    " \n",
    "# Embed nodes \n",
    "node2vec_fit = node2vec_model.fit(window=10, min_count=1, batch_words=4096)  \n",
    "# Any keywords acceptable by gensim.Word2Vec can be passed, `dimensions` and `workers` are automatically passed \n",
    "# (from the Node2Vec constructor)\n",
    "# print(\"Embedding already generated!!\")\n",
    "node2vec_embd = []\n",
    "for i in range(G.number_of_nodes()):\n",
    "    node2vec_embd.append(node2vec_fit.wv[str(i)])\n",
    "print(EE(intrinsic_list, intrinsic_clustering, node2vec_embd))"
   ]
  },
  {
   "cell_type": "code",
   "execution_count": 13,
   "id": "e5d0c3ac",
   "metadata": {},
   "outputs": [
    {
     "name": "stderr",
     "output_type": "stream",
     "text": [
      "WARNING:gensim.models.word2vec:Both hierarchical softmax and negative sampling are activated. This is probably a mistake. You should set either 'hs=0' or 'negative=0' to disable one of them. \n"
     ]
    },
    {
     "name": "stdout",
     "output_type": "stream",
     "text": [
      "[0.9473580487478744, 0.9741094096151275, 0.8076846606846607, 0.9033370019810698]\n",
      "CPU times: user 1.59 s, sys: 29.9 ms, total: 1.62 s\n",
      "Wall time: 5.7 s\n"
     ]
    }
   ],
   "source": [
    "%%time\n",
    "### 5 DeepWalk方法\n",
    "from karateclub import DeepWalk\n",
    "model = DeepWalk(dimensions=64, walk_length=30, window_size=10)\n",
    "model.fit(G)\n",
    "deepwalk_embd = model.get_embedding()\n",
    "print(EE(intrinsic_list, intrinsic_clustering, deepwalk_embd))"
   ]
  },
  {
   "cell_type": "code",
   "execution_count": 14,
   "id": "2df4d92b",
   "metadata": {},
   "outputs": [
    {
     "name": "stderr",
     "output_type": "stream",
     "text": [
      "2023-06-24 20:17:40.270038: I tensorflow/core/platform/cpu_feature_guard.cc:182] This TensorFlow binary is optimized to use available CPU instructions in performance-critical operations.\n",
      "To enable the following instructions: AVX2 FMA, in other operations, rebuild TensorFlow with the appropriate compiler flags.\n",
      "2023-06-24 20:17:42.351352: W tensorflow/compiler/tf2tensorrt/utils/py_utils.cc:38] TF-TRT Warning: Could not find TensorRT\n",
      "2023-06-24 20:17:46.878976: I tensorflow/core/common_runtime/gpu/gpu_device.cc:1635] Created device /job:localhost/replica:0/task:0/device:GPU:0 with 38223 MB memory:  -> device: 0, name: NVIDIA A100-SXM4-40GB, pci bus id: 0000:02:00.0, compute capability: 8.0\n",
      "2023-06-24 20:17:46.880399: I tensorflow/core/common_runtime/gpu/gpu_device.cc:1635] Created device /job:localhost/replica:0/task:0/device:GPU:1 with 38223 MB memory:  -> device: 1, name: NVIDIA A100-SXM4-40GB, pci bus id: 0000:41:00.0, compute capability: 8.0\n",
      "2023-06-24 20:17:47.178698: I tensorflow/core/common_runtime/executor.cc:1197] [/device:CPU:0] (DEBUG INFO) Executor start aborting (this does not indicate an error and you can ignore this message): INVALID_ARGUMENT: You must feed a value for placeholder tensor 'Placeholder/_0' with dtype int32\n",
      "\t [[{{node Placeholder/_0}}]]\n"
     ]
    },
    {
     "name": "stdout",
     "output_type": "stream",
     "text": [
      "[0.9442173440853913, 0.9674694277622783, 0.8208479081793998, 0.8815901386748844]\n",
      "CPU times: user 20.8 s, sys: 4.07 s, total: 24.9 s\n",
      "Wall time: 20.3 s\n"
     ]
    }
   ],
   "source": [
    "%%time\n",
    "### 6 LINE 方法\n",
    "from ge import LINE\n",
    "model = LINE(G,embedding_size=60,order='first');\n",
    "model.train(batch_size=1024,epochs=50,verbose=0);# train model\n",
    "LINE_embd = model.get_embeddings();# get embedding vectors\n",
    "\n",
    "LINE_embd = list(LINE_embd.values())\n",
    "print(EE(intrinsic_list, intrinsic_clustering, LINE_embd))"
   ]
  },
  {
   "cell_type": "code",
   "execution_count": 15,
   "id": "494f3039",
   "metadata": {},
   "outputs": [
    {
     "name": "stdout",
     "output_type": "stream",
     "text": [
      "[0.9269350501643009, 0.929826439531944, 0.7729846886446887, 0.7794846153846154]\n",
      "CPU times: user 21.7 s, sys: 39.2 s, total: 1min\n",
      "Wall time: 5.26 s\n"
     ]
    }
   ],
   "source": [
    "%%time\n",
    "### 7 LLE 方法\n",
    "from auxpack.lle import lle\n",
    "D = 15\n",
    "lle_embd = lle(G, D)\n",
    "print(EE(intrinsic_list, intrinsic_clustering, lle_embd))"
   ]
  }
 ],
 "metadata": {
  "kernelspec": {
   "display_name": "Python 3 (ipykernel)",
   "language": "python",
   "name": "python3"
  },
  "language_info": {
   "codemirror_mode": {
    "name": "ipython",
    "version": 3
   },
   "file_extension": ".py",
   "mimetype": "text/x-python",
   "name": "python",
   "nbconvert_exporter": "python",
   "pygments_lexer": "ipython3",
   "version": "3.10.11"
  }
 },
 "nbformat": 4,
 "nbformat_minor": 5
}
