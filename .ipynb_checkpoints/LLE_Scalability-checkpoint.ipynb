{
 "cells": [
  {
   "cell_type": "code",
   "execution_count": 1,
   "id": "baca83c0",
   "metadata": {},
   "outputs": [],
   "source": [
    "import networkx as nx\n",
    "from networkx.generators.community import LFR_benchmark_graph\n",
    "\n",
    "n = 1000\n",
    "tau1 = 2  # Power-law exponent for the degree distribution\n",
    "tau2 = 1.1  # Power-law exponent for the community size distribution\n",
    "mu = 0.1  # Mixing parameter\n",
    "avg_deg = 25  # Average Degree\n",
    "max_deg = int(0.1 * n)  # Max Degree\n",
    "min_commu = 60  # Min Community Size\n",
    "max_commu = int(0.1 * n)  # Max Community Size\n",
    "\n",
    "G1 = LFR_benchmark_graph(\n",
    "    n, tau1, tau2, mu, average_degree=avg_deg, max_degree=max_deg, min_community=min_commu, max_community=max_commu,\n",
    "    seed=7\n",
    ")\n",
    "\n",
    "### 去掉 G1 中的重边和自环 \n",
    "G1 = nx.Graph(G1) # Remove multi-edges\n",
    "\n",
    "selfloop_edges = list(nx.selfloop_edges(G1)) # a list of self loops\n",
    "\n",
    "G1.remove_edges_from(selfloop_edges) # Remove self-loops"
   ]
  },
  {
   "cell_type": "code",
   "execution_count": 2,
   "id": "f846eb4a",
   "metadata": {
    "scrolled": false
   },
   "outputs": [],
   "source": [
    "### LFR 图是有内在的社群结构的，每个节点的社群存储在其 community 属性中，是一个 set\n",
    "# 通过运行循环，按照内在的社群结构给每个节点一个标签 即为其 intrinsic_membership\n",
    "# 为了方便 intrinsic_membership 一开始是作为一个 dict 存储的\n",
    "intrinsic_communities1 = {frozenset(G1.nodes[v][\"community\"]) for v in G1}\n",
    "intrinsic_membership1 = {}\n",
    "for node in range(G1.number_of_nodes()):\n",
    "    for index, inner_set in enumerate(intrinsic_communities1):\n",
    "        if node in inner_set:\n",
    "            intrinsic_membership1[node] = index\n",
    "            break\n",
    "# intrinsic_membership = list(intrinsic_membership.values())\n",
    "\n",
    "# 存储 list 和 clustering 格式的拷贝 省得以后需要再做类型转换了\n",
    "intrinsic_list1 = list(intrinsic_membership1.values())\n",
    "from clusim.clustering import Clustering\n",
    "intrinsic_clustering1 = Clustering(elm2clu_dict={i: [intrinsic_membership1[i]] for i in intrinsic_membership1.keys()})"
   ]
  },
  {
   "cell_type": "code",
   "execution_count": 3,
   "id": "225a8870",
   "metadata": {},
   "outputs": [],
   "source": [
    "### 导入 图嵌入评估函数 我自己封装的\n",
    "\n",
    "from auxpack.evaluate_embd import evaluate_embd as EE"
   ]
  },
  {
   "cell_type": "code",
   "execution_count": 4,
   "id": "48f9781b",
   "metadata": {
    "scrolled": true
   },
   "outputs": [
    {
     "name": "stdout",
     "output_type": "stream",
     "text": [
      "10-dim: [1.0000000000000002, 1.0000000000000002, 1.0, 1.0]\n",
      "11-dim: [1.0000000000000002, 1.0000000000000002, 1.0, 1.0]\n",
      "12-dim: [1.0000000000000002, 1.0000000000000002, 1.0, 1.0]\n",
      "13-dim: [1.0000000000000002, 1.0000000000000002, 1.0, 1.0]\n",
      "14-dim: [1.0000000000000002, 1.0000000000000002, 1.0, 1.0]\n",
      "CPU times: user 3min 50s, sys: 5min 49s, total: 9min 39s\n",
      "Wall time: 6.51 s\n"
     ]
    }
   ],
   "source": [
    "%%time\n",
    "### Regular Version\n",
    "from auxpack.lle import lle\n",
    "for D in range(max(intrinsic_list1)+1-2,max(intrinsic_list1)+1+3):\n",
    "    lle_embd = lle(G1, D)\n",
    "    print(f\"{D}-dim:\", EE(intrinsic_list1, intrinsic_clustering1, lle_embd))"
   ]
  },
  {
   "cell_type": "code",
   "execution_count": 5,
   "id": "91acaca8",
   "metadata": {},
   "outputs": [
    {
     "name": "stdout",
     "output_type": "stream",
     "text": [
      "10-dim: [1.0000000000000002, 1.0, 1.0, 1.0]\n",
      "11-dim: [1.0000000000000002, 1.0000000000000002, 1.0, 1.0]\n",
      "12-dim: [1.0, 1.0, 1.0, 1.0]\n",
      "13-dim: [1.0000000000000002, 1.0000000000000002, 1.0, 1.0]\n",
      "14-dim: [1.0000000000000002, 1.0000000000000002, 1.0, 1.0]\n",
      "CPU times: user 2min 46s, sys: 3min 47s, total: 6min 33s\n",
      "Wall time: 3.92 s\n"
     ]
    }
   ],
   "source": [
    "%%time\n",
    "### Sparse Version\n",
    "from auxpack.lle import lles\n",
    "for D in range(max(intrinsic_list1)+1-2,max(intrinsic_list1)+1+3):\n",
    "    lle_embd = lles(G1, D)\n",
    "    print(f\"{D}-dim:\", EE(intrinsic_list1, intrinsic_clustering1, lle_embd))"
   ]
  },
  {
   "cell_type": "code",
   "execution_count": 6,
   "id": "8126f19e",
   "metadata": {
    "scrolled": true
   },
   "outputs": [
    {
     "name": "stdout",
     "output_type": "stream",
     "text": [
      "CPU times: user 2.65 s, sys: 3.39 s, total: 6.04 s\n",
      "Wall time: 1.85 s\n"
     ]
    }
   ],
   "source": [
    "%%time\n",
    "import networkx as nx\n",
    "from networkx.generators.community import LFR_benchmark_graph\n",
    "\n",
    "n = 10000\n",
    "tau1 = 2  # Power-law exponent for the degree distribution\n",
    "tau2 = 1.1  # Power-law exponent for the community size distribution\n",
    "mu = 0.1  # Mixing parameter\n",
    "avg_deg = 25  # Average Degree\n",
    "max_deg = int(0.1 * n)  # Max Degree\n",
    "min_commu = 60  # Min Community Size\n",
    "max_commu = int(0.1 * n)  # Max Community Size\n",
    "\n",
    "G2 = LFR_benchmark_graph(\n",
    "    n, tau1, tau2, mu, average_degree=avg_deg, max_degree=max_deg, min_community=min_commu, max_community=max_commu,\n",
    "    seed=7\n",
    ")\n",
    "\n",
    "### 去掉 G2 中的重边和自环 \n",
    "G2 = nx.Graph(G2) # Remove multi-edges\n",
    "\n",
    "selfloop_edges = list(nx.selfloop_edges(G2)) # a list of self loops\n",
    "\n",
    "G2.remove_edges_from(selfloop_edges) # Remove self-loops"
   ]
  },
  {
   "cell_type": "code",
   "execution_count": 7,
   "id": "22be5239",
   "metadata": {},
   "outputs": [],
   "source": [
    "### LFR 图是有内在的社群结构的，每个节点的社群存储在其 community 属性中，是一个 set\n",
    "# 通过运行循环，按照内在的社群结构给每个节点一个标签 即为其 intrinsic_membership\n",
    "# 为了方便 intrinsic_membership 一开始是作为一个 dict 存储的\n",
    "intrinsic_communities2 = {frozenset(G2.nodes[v][\"community\"]) for v in G2}\n",
    "intrinsic_membership2 = {}\n",
    "for node in range(G2.number_of_nodes()):\n",
    "    for index, inner_set in enumerate(intrinsic_communities2):\n",
    "        if node in inner_set:\n",
    "            intrinsic_membership2[node] = index\n",
    "            break\n",
    "# intrinsic_membership = list(intrinsic_membership.values())\n",
    "\n",
    "# 存储 list 和 clustering 格式的拷贝 省得以后需要再做类型转换了\n",
    "intrinsic_list2 = list(intrinsic_membership2.values())\n",
    "from clusim.clustering import Clustering\n",
    "intrinsic_clustering2 = Clustering(elm2clu_dict={i: [intrinsic_membership2[i]] for i in intrinsic_membership2.keys()})"
   ]
  },
  {
   "cell_type": "code",
   "execution_count": 8,
   "id": "b5f02d2b",
   "metadata": {},
   "outputs": [
    {
     "name": "stdout",
     "output_type": "stream",
     "text": [
      "29-dim: [0.9979999215089495, 0.9962956045607828, 0.9949148532626793, 0.986455567734579]\n",
      "30-dim: [1.0000000000000002, 1.0, 1.0, 1.0]\n",
      "31-dim: [1.0000000000000002, 1.0000000000000002, 1.0, 1.0]\n",
      "32-dim: [1.0, 1.0000000000000002, 1.0, 1.0]\n",
      "33-dim: [1.0000000000000002, 1.0000000000000002, 1.0, 1.0]\n",
      "CPU times: user 17min 30s, sys: 59min 26s, total: 1h 16min 57s\n",
      "Wall time: 1min 17s\n"
     ]
    }
   ],
   "source": [
    "%%time\n",
    "### Sparse Version\n",
    "from auxpack.lle import lles\n",
    "for D in range(max(intrinsic_list2)+1-2,max(intrinsic_list2)+1+3):\n",
    "    lle_embd = lles(G2, D)\n",
    "    print(f\"{D}-dim:\", EE(intrinsic_list2, intrinsic_clustering2, lle_embd))"
   ]
  },
  {
   "cell_type": "code",
   "execution_count": 9,
   "id": "6ceb03c3",
   "metadata": {
    "scrolled": true
   },
   "outputs": [
    {
     "name": "stdout",
     "output_type": "stream",
     "text": [
      "29-dim: [0.9960503482490422, 0.9935705914457891, 0.9819083582949308, 0.9748405164232905]\n",
      "30-dim: [1.0, 1.0000000000000002, 1.0, 1.0]\n",
      "31-dim: [1.0000000000000002, 1.0000000000000002, 1.0, 1.0]\n",
      "32-dim: [1.0000000000000002, 1.0000000000000002, 1.0, 1.0]\n",
      "33-dim: [1.0000000000000002, 1.0, 1.0, 1.0]\n",
      "CPU times: user 11h 41min 58s, sys: 6h 59min 9s, total: 18h 41min 8s\n",
      "Wall time: 20min 40s\n"
     ]
    }
   ],
   "source": [
    "%%time\n",
    "### Regular Version\n",
    "from auxpack.lle import lle\n",
    "for D in range(max(intrinsic_list2)+1-2,max(intrinsic_list2)+1+3):\n",
    "    lle_embd = lle(G2, D)\n",
    "    print(f\"{D}-dim:\", EE(intrinsic_list2, intrinsic_clustering2, lle_embd))"
   ]
  }
 ],
 "metadata": {
  "kernelspec": {
   "display_name": "Python 3 (ipykernel)",
   "language": "python",
   "name": "python3"
  },
  "language_info": {
   "codemirror_mode": {
    "name": "ipython",
    "version": 3
   },
   "file_extension": ".py",
   "mimetype": "text/x-python",
   "name": "python",
   "nbconvert_exporter": "python",
   "pygments_lexer": "ipython3",
   "version": "3.10.5"
  }
 },
 "nbformat": 4,
 "nbformat_minor": 5
}
