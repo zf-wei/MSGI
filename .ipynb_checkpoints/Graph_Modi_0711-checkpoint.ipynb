{
 "cells": [
  {
   "cell_type": "code",
   "execution_count": 1,
   "id": "85685427",
   "metadata": {},
   "outputs": [],
   "source": [
    "### 使用 networkx 包中的函数 LFR_benchmark_graph 生成随机图\n",
    "import networkx as nx\n",
    "from networkx.generators.community import LFR_benchmark_graph\n",
    "\n",
    "n = 1000\n",
    "tau1 = 2  # Power-law exponent for the degree distribution\n",
    "tau2 = 1.1 # Power-law exponent for the community size distribution \n",
    "            #S hould be >1\n",
    "mu = 0.1 # Mixing parameter\n",
    "avg_deg = 25 # Average Degree\n",
    "max_deg = int(0.1*n) # Max Degree\n",
    "min_commu = 60 # Min Community Size\n",
    "max_commu = int(0.1*n) # Max Community Size\n",
    "\n",
    "G0 = LFR_benchmark_graph(\n",
    "    n, tau1, tau2, mu, average_degree=avg_deg, max_degree=max_deg, min_community=min_commu, max_community=max_commu, \n",
    "    seed=7\n",
    ")\n",
    "### 去掉 G 中的重边和自环 \n",
    "G0 = nx.Graph(G0) # Remove multi-edges\n",
    "\n",
    "selfloop_edges = list(nx.selfloop_edges(G0)) # a list of self loops\n",
    "\n",
    "G0.remove_edges_from(selfloop_edges) # Remove self-loops"
   ]
  },
  {
   "cell_type": "code",
   "execution_count": 3,
   "id": "cd3c9295",
   "metadata": {},
   "outputs": [],
   "source": [
    "output_file = \"edgelist.txt\"\n",
    "\n",
    "# Write the edge list to the output file\n",
    "nx.write_edgelist(G0, output_file, delimiter=' ', data=False)"
   ]
  },
  {
   "cell_type": "code",
   "execution_count": 4,
   "id": "cc7e40ed",
   "metadata": {},
   "outputs": [],
   "source": [
    "import numpy as np\n",
    "intrinsic_communities = {frozenset(G0.nodes[v][\"community\"]) for v in G0}\n",
    "intrinsic_membership = np.empty(G0.number_of_nodes(), dtype=int)\n",
    "for node in range(G0.number_of_nodes()):\n",
    "    for index, inner_set in enumerate(intrinsic_communities):\n",
    "        if node in inner_set:\n",
    "            intrinsic_membership[node] = index\n",
    "            break"
   ]
  },
  {
   "cell_type": "code",
   "execution_count": null,
   "id": "95ff668d",
   "metadata": {},
   "outputs": [],
   "source": []
  }
 ],
 "metadata": {
  "kernelspec": {
   "display_name": "Python 3 (ipykernel)",
   "language": "python",
   "name": "python3"
  },
  "language_info": {
   "codemirror_mode": {
    "name": "ipython",
    "version": 3
   },
   "file_extension": ".py",
   "mimetype": "text/x-python",
   "name": "python",
   "nbconvert_exporter": "python",
   "pygments_lexer": "ipython3",
   "version": "3.10.5"
  }
 },
 "nbformat": 4,
 "nbformat_minor": 5
}
