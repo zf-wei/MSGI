{
 "cells": [
  {
   "cell_type": "code",
   "execution_count": 1,
   "id": "4550ebe1",
   "metadata": {},
   "outputs": [],
   "source": [
    "import warnings\n",
    "\n",
    "warnings.filterwarnings(\"ignore\", category=UserWarning)\n",
    "warnings.filterwarnings(\"ignore\", category=DeprecationWarning)\n",
    "warnings.filterwarnings(\"ignore\", category=FutureWarning)"
   ]
  },
  {
   "cell_type": "code",
   "execution_count": 2,
   "id": "064b5ded",
   "metadata": {},
   "outputs": [],
   "source": [
    "### 使用 networkx 包中的函数 LFR_benchmark_graph 生成随机图\n",
    "import networkx as nx\n",
    "from networkx.generators.community import LFR_benchmark_graph\n",
    "\n",
    "n = 1000\n",
    "tau1 = 2  # Power-law exponent for the degree distribution\n",
    "tau2 = 1.1 # Power-law exponent for the community size distribution \n",
    "            #S hould be >1\n",
    "mu = 0.05 # Mixing parameter\n",
    "avg_deg = 25 # Average Degree\n",
    "max_deg = 100 # Max Degree\n",
    "min_commu = 80 # Min Community Size\n",
    "max_commu = 100 # Max Community Size\n",
    "\n",
    "G = LFR_benchmark_graph(\n",
    "    n, tau1, tau2, mu, average_degree=avg_deg, max_degree=max_deg, min_community=min_commu, max_community=max_commu, \n",
    "    seed=7\n",
    ")\n",
    "### 去掉 G 中的重边和自环 \n",
    "G = nx.Graph(G) # Remove multi-edges\n",
    "\n",
    "selfloop_edges = list(nx.selfloop_edges(G)) # a list of self loops\n",
    "\n",
    "G.remove_edges_from(selfloop_edges) # Remove self-loops"
   ]
  },
  {
   "cell_type": "code",
   "execution_count": 3,
   "id": "5fe81c9c",
   "metadata": {},
   "outputs": [],
   "source": [
    "import numpy as np\n",
    "intrinsic_communities = {frozenset(G.nodes[v][\"community\"]) for v in G}\n",
    "intrinsic_membership = np.empty(G.number_of_nodes(), dtype=int)\n",
    "for node in range(G.number_of_nodes()):\n",
    "    for index, inner_set in enumerate(intrinsic_communities):\n",
    "        if node in inner_set:\n",
    "            intrinsic_membership[node] = index\n",
    "            break"
   ]
  },
  {
   "cell_type": "code",
   "execution_count": 4,
   "id": "585e60b5",
   "metadata": {},
   "outputs": [],
   "source": [
    "remain_nodes = np.array(range(G.number_of_nodes()))\n",
    "idx = [True] *(G.number_of_nodes())\n",
    "\n",
    "G.remove_node(2)\n",
    "idx[2]=False"
   ]
  },
  {
   "cell_type": "code",
   "execution_count": 5,
   "id": "a8148f24",
   "metadata": {},
   "outputs": [],
   "source": [
    "#import numpy as np\n",
    "K = len(np.unique(intrinsic_membership[idx]))\n",
    "remain_nodes=remain_nodes[idx]\n",
    "intrinsic_membership_2=intrinsic_membership[idx]\n",
    "\n",
    "from clusim.clustering import Clustering\n",
    "intrinsic_clustering_2 = Clustering(\n",
    "                            elm2clu_dict={i: [intrinsic_membership_2[i]] for i in range(len(intrinsic_membership_2))}\n",
    "                            )"
   ]
  },
  {
   "cell_type": "code",
   "execution_count": 6,
   "id": "93122df3",
   "metadata": {},
   "outputs": [],
   "source": [
    "from auxpack.eval_embd import eval_embd as EE\n",
    "\n",
    "D=20"
   ]
  },
  {
   "cell_type": "code",
   "execution_count": 7,
   "id": "c10e69a1",
   "metadata": {},
   "outputs": [
    {
     "name": "stdout",
     "output_type": "stream",
     "text": [
      "NMI&ECS: [0.9874226530853143, 1.0, 0.9825919511875483, 1.0]\n",
      "CPU times: user 35.2 s, sys: 43.5 s, total: 1min 18s\n",
      "Wall time: 768 ms\n"
     ]
    }
   ],
   "source": [
    "%%time\n",
    "### 1 Hope 方法\n",
    "from gem.embedding.hope import HOPE  \n",
    "\n",
    "hope_model = HOPE(d=D, beta=0.01) \n",
    "# A higher value of beta places more emphasis on capturing higher-order proximities\n",
    "embd = hope_model.learn_embedding(graph=G, is_weighted=False, no_python=True)\n",
    "\n",
    "defen = EE(K, intrinsic_membership_2 ,intrinsic_clustering_2,embd)\n",
    "print(\"NMI&ECS:\", defen)"
   ]
  },
  {
   "cell_type": "code",
   "execution_count": 8,
   "id": "12dd9afd",
   "metadata": {},
   "outputs": [
    {
     "name": "stdout",
     "output_type": "stream",
     "text": [
      "NMI&ECS: [1.0, 0.9999999999999998, 1.0, 1.0]\n",
      "CPU times: user 23.6 s, sys: 36 s, total: 59.6 s\n",
      "Wall time: 752 ms\n"
     ]
    }
   ],
   "source": [
    "%%time\n",
    "### 2 Laplacian 方法\n",
    "from gem.embedding.lap import LaplacianEigenmaps\n",
    "\n",
    "lap_model = LaplacianEigenmaps(d=D)\n",
    "embd = lap_model.learn_embedding(graph=G, is_weighted=False, no_python=True)\n",
    "\n",
    "defen = EE(K, intrinsic_membership_2 ,intrinsic_clustering_2,embd)\n",
    "print(\"NMI&ECS:\", defen)"
   ]
  },
  {
   "cell_type": "code",
   "execution_count": 9,
   "id": "b81f3694",
   "metadata": {},
   "outputs": [
    {
     "name": "stdout",
     "output_type": "stream",
     "text": [
      "NMI&ECS: [1.0, 0.9999999999999998, 1.0, 1.0]\n",
      "CPU times: user 46.5 s, sys: 1min 7s, total: 1min 53s\n",
      "Wall time: 1.29 s\n"
     ]
    }
   ],
   "source": [
    "%%time\n",
    "### 3 LLE 方法\n",
    "from auxpack.lle import lle\n",
    "\n",
    "embd = lle(G, D)\n",
    "\n",
    "defen = EE(K, intrinsic_membership_2 ,intrinsic_clustering_2,embd)\n",
    "print(\"NMI&ECS:\", defen)"
   ]
  },
  {
   "cell_type": "code",
   "execution_count": 10,
   "id": "917a7956",
   "metadata": {
    "scrolled": true
   },
   "outputs": [
    {
     "name": "stdout",
     "output_type": "stream",
     "text": [
      "NMI&ECS: [1.0000000000000002, 1.0, 1.0, 1.0]\n",
      "CPU times: user 22.7 s, sys: 25.7 s, total: 48.4 s\n",
      "Wall time: 2.56 s\n"
     ]
    }
   ],
   "source": [
    "%%time\n",
    "### 4 DeepWalk方法\n",
    "from auxpack.DeepWalk import DeepWalk\n",
    "\n",
    "model = DeepWalk(dimensions=D, walk_length=16, window_size=10, walk_number=10, workers=32)\n",
    "model.fit(G)\n",
    "embd = model.get_embedding()\n",
    "\n",
    "defen = EE(K, intrinsic_membership_2 ,intrinsic_clustering_2,embd)\n",
    "print(\"NMI&ECS:\", defen)"
   ]
  },
  {
   "cell_type": "code",
   "execution_count": 11,
   "id": "edd1d494",
   "metadata": {},
   "outputs": [
    {
     "name": "stdout",
     "output_type": "stream",
     "text": [
      "NMI&ECS: [1.0, 0.9999999999999998, 1.0, 1.0]\n",
      "CPU times: user 44.7 s, sys: 40 s, total: 1min 24s\n",
      "Wall time: 21.2 s\n"
     ]
    }
   ],
   "source": [
    "%%time\n",
    "### 5 Node2Vec 方法 以后使用这个\n",
    "from node2vec import Node2Vec\n",
    "\n",
    "nodes = [str(i) for i in remain_nodes]\n",
    "# Precompute probabilities and generate walks - **ON WINDOWS ONLY WORKS WITH workers=1**\n",
    "node2vec_model = Node2Vec(G, dimensions=D, walk_length=16, num_walks=10, workers=32, quiet=True) #, temp_folder='test' # Use temp_folder for big graphs\n",
    "# Embed nodes \n",
    "node2vec_fit = node2vec_model.fit(window=10, min_count=1, batch_words=40000)  \n",
    "# Any keywords acceptable by gensim.Word2Vec can be passed, `dimensions` and `workers` are automatically passed \n",
    "# (from the Node2Vec constructor)\n",
    "embd = np.array([node2vec_fit.wv[node] for node in nodes])\n",
    "\n",
    "defen = EE(K, intrinsic_membership_2 ,intrinsic_clustering_2,embd)\n",
    "print(\"NMI&ECS:\", defen)"
   ]
  },
  {
   "cell_type": "code",
   "execution_count": 12,
   "id": "0b10901a",
   "metadata": {},
   "outputs": [
    {
     "name": "stdout",
     "output_type": "stream",
     "text": [
      "NMI&ECS: [0.9999999999999998, 1.0, 1.0, 1.0]\n",
      "CPU times: user 55.6 s, sys: 2min 25s, total: 3min 21s\n",
      "Wall time: 2.95 s\n"
     ]
    }
   ],
   "source": [
    "%%time\n",
    "### 6 MNMF 方法\n",
    "from karateclub import MNMF\n",
    "\n",
    "# Create an instance of the MNMF model\n",
    "MNMF_model = MNMF(dimensions = D, clusters = K, lambd = 0.2, \n",
    "             alpha = 0.05, beta = 0.05, iterations = 100, \n",
    "             lower_control = 1e-15, eta = 5.0, seed = 42)\n",
    "\n",
    "# Fit the model to the graph\n",
    "H = nx.relabel.convert_node_labels_to_integers(G)\n",
    "MNMF_model.fit(H)\n",
    "# Obtain the graph embeddings\n",
    "embd = MNMF_model.get_embedding()\n",
    "\n",
    "defen = EE(K, intrinsic_membership_2 ,intrinsic_clustering_2,embd)\n",
    "print(\"NMI&ECS:\", defen)"
   ]
  },
  {
   "cell_type": "code",
   "execution_count": 14,
   "id": "af5f3847",
   "metadata": {},
   "outputs": [
    {
     "name": "stdout",
     "output_type": "stream",
     "text": [
      "NMI&ECS: [1.0, 1.0, 1.0, 1.0]\n",
      "CPU times: user 29.7 s, sys: 24.9 s, total: 54.6 s\n",
      "Wall time: 5.51 s\n"
     ]
    }
   ],
   "source": [
    "%%time\n",
    "### 7 LINE 方法\n",
    "from ge import LINE\n",
    "\n",
    "model = LINE(G,embedding_size=D,order='first');\n",
    "model.train(batch_size=8192,epochs=50,verbose=0);# train model\n",
    "LINE_embd = model.get_embeddings();# get embedding vectors\n",
    "embd = list(LINE_embd.values())\n",
    "\n",
    "defen = EE(K, intrinsic_membership_2 ,intrinsic_clustering_2,embd)\n",
    "print(\"NMI&ECS:\", defen)"
   ]
  }
 ],
 "metadata": {
  "kernelspec": {
   "display_name": "Python 3 (ipykernel)",
   "language": "python",
   "name": "python3"
  },
  "language_info": {
   "codemirror_mode": {
    "name": "ipython",
    "version": 3
   },
   "file_extension": ".py",
   "mimetype": "text/x-python",
   "name": "python",
   "nbconvert_exporter": "python",
   "pygments_lexer": "ipython3",
   "version": "3.10.5"
  }
 },
 "nbformat": 4,
 "nbformat_minor": 5
}
