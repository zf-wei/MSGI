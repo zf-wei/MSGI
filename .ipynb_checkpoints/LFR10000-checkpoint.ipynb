{
 "cells": [
  {
   "cell_type": "code",
   "execution_count": 1,
   "id": "45cbd4e7",
   "metadata": {},
   "outputs": [],
   "source": [
    "### 这个文件尝试了 LFR网络的生成 用Louvain方法做了聚类 最后计算了与内生聚类的 NMI\n",
    "###\n",
    "# 导入 networkx 包并给定参数生成 LFR 图\n",
    "import networkx as nx\n",
    "\n",
    "from networkx.generators.community import LFR_benchmark_graph\n",
    "\n",
    "\n",
    "\n",
    "n = 10000\n",
    "tau1 = 2  # Power-law exponent for the degree distribution\n",
    "tau2 = 1.1  # Power-law exponent for the community size distribution\n",
    "mu = 0.015  # Mixing parameter\n",
    "avg_deg = 25  # Average Degree\n",
    "max_deg = int(0.1 * n)  # Max Degree\n",
    "min_commu = 200  # Min Community Size\n",
    "max_commu = int(0.1 * n)  # Max Community Size\n",
    "\n",
    "G = LFR_benchmark_graph(\n",
    "    n, tau1, tau2, mu, average_degree=avg_deg, max_degree=max_deg, min_community=min_commu, max_community=max_commu,\n",
    "    seed=7\n",
    ")\n",
    "\n",
    "#nx.draw(G, pos=nx.spring_layout(G),node_color='r', node_size=3, edge_color='b')"
   ]
  },
  {
   "cell_type": "code",
   "execution_count": 2,
   "id": "c0f70f7f",
   "metadata": {},
   "outputs": [],
   "source": [
    "# LFR 图是有内在的社群结构的，每个节点的社群存储在其 community 属性中，是一个 set\n",
    "# 通过运行循环，按照内在的社群结构给每个节点一个标签 即为其 intrinsic_membership\n",
    "# 为了方便 intrinsic_membership 一开始是作为一个 dict 存储的，后来将其转化为一个 list\n",
    "intrinsic_communities = {frozenset(G.nodes[v][\"community\"]) for v in G}\n",
    "intrinsic_membership = {}\n",
    "for node in range(G.number_of_nodes()):\n",
    "    for index, inner_set in enumerate(intrinsic_communities):\n",
    "        if node in inner_set:\n",
    "            intrinsic_membership[node] = index\n",
    "            break\n",
    "intrinsic_membership = list(intrinsic_membership.values())\n",
    "# Print the labels\n",
    "#for number, label in membership.items():\n",
    "#    print(f\"Number {number} belongs to {label}\")"
   ]
  },
  {
   "cell_type": "code",
   "execution_count": 3,
   "id": "a8d42813",
   "metadata": {
    "scrolled": true
   },
   "outputs": [],
   "source": [
    "# 利用 Louvain 算法进行社群识别并画图\n",
    "# louvain_membership 一开始是作为一个 dict 给出的，后来将其转化为一个 list\n",
    "from community import community_louvain\n",
    "import matplotlib\n",
    "import matplotlib.pyplot as plt\n",
    "\n",
    "\n",
    "louvain_membership = list(community_louvain.best_partition(G).values())"
   ]
  },
  {
   "cell_type": "code",
   "execution_count": 4,
   "id": "c236914a",
   "metadata": {},
   "outputs": [
    {
     "name": "stdout",
     "output_type": "stream",
     "text": [
      "NMI: 1.0\n"
     ]
    }
   ],
   "source": [
    "# 计算 \n",
    "# 内在的社群结构 intrinsic_membership 和\n",
    "# Louvain 算法给出的 louvain_membership \n",
    "# 的 NMI\n",
    "from sklearn.metrics import normalized_mutual_info_score\n",
    "\n",
    "# Calculate the NMI\n",
    "nmi = normalized_mutual_info_score(louvain_membership, intrinsic_membership)\n",
    "\n",
    "print(\"NMI:\", nmi)\n"
   ]
  },
  {
   "cell_type": "code",
   "execution_count": 5,
   "id": "13a077d6",
   "metadata": {},
   "outputs": [
    {
     "name": "stdout",
     "output_type": "stream",
     "text": [
      "The network has 21 intrinsic communities.\n",
      "Louvain algorithm gives 21 communities.\n"
     ]
    }
   ],
   "source": [
    "print(f\"The network has {max(intrinsic_membership)+1} intrinsic communities.\")\n",
    "print(f\"Louvain algorithm gives {max(louvain_membership)+1} communities.\")"
   ]
  },
  {
   "cell_type": "code",
   "execution_count": 6,
   "id": "f46daa3b",
   "metadata": {},
   "outputs": [
    {
     "name": "stdout",
     "output_type": "stream",
     "text": [
      "Counter({7: 970, 10: 943, 4: 844, 16: 831, 12: 548, 3: 524, 8: 502, 1: 498, 9: 463, 15: 429, 5: 429, 19: 425, 11: 354, 17: 342, 14: 339, 2: 320, 0: 305, 6: 278, 20: 242, 18: 214, 13: 200})\n",
      "Counter({3: 970, 8: 943, 17: 844, 14: 831, 19: 548, 7: 524, 16: 502, 15: 498, 9: 463, 13: 429, 5: 429, 18: 425, 6: 354, 10: 342, 1: 339, 20: 320, 11: 305, 12: 278, 4: 242, 2: 214, 0: 200})\n"
     ]
    }
   ],
   "source": [
    "from collections import Counter\n",
    "\n",
    "frequency_louvain = Counter(louvain_membership)\n",
    "\n",
    "print(frequency_louvain)\n",
    "\n",
    "frequency_intrinsic = Counter(intrinsic_membership)\n",
    "\n",
    "print(frequency_intrinsic)"
   ]
  }
 ],
 "metadata": {
  "kernelspec": {
   "display_name": "Python 3 (ipykernel)",
   "language": "python",
   "name": "python3"
  },
  "language_info": {
   "codemirror_mode": {
    "name": "ipython",
    "version": 3
   },
   "file_extension": ".py",
   "mimetype": "text/x-python",
   "name": "python",
   "nbconvert_exporter": "python",
   "pygments_lexer": "ipython3",
   "version": "3.10.5"
  }
 },
 "nbformat": 4,
 "nbformat_minor": 5
}
