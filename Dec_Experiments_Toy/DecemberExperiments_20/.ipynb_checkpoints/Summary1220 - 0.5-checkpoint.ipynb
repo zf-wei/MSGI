{
 "cells": [
  {
   "cell_type": "code",
   "execution_count": 1,
   "id": "3ae9819b",
   "metadata": {},
   "outputs": [],
   "source": [
    "### 导入 图嵌入评估函数 我自己封装的\n",
    "from auxpack.evaluate_embd import evaluate_embd as EE\n",
    "\n",
    "from karateclub import MNMF\n",
    "\n",
    "dim_rg = [16,32]#,64,128,256];"
   ]
  },
  {
   "cell_type": "code",
   "execution_count": 11,
   "id": "fd87cc33",
   "metadata": {},
   "outputs": [
    {
     "name": "stderr",
     "output_type": "stream",
     "text": [
      "/N/u/zfwei/BigRed200/.local/lib/python3.10/site-packages/karateclub/community_detection/overlapping/mnmf.py:82: FutureWarning: adjacency_matrix will return a scipy.sparse array instead of a matrix in Networkx 3.0.\n",
      "  self._B1 = nx.adjacency_matrix(\n",
      "/N/u/zfwei/BigRed200/.local/lib/python3.10/site-packages/karateclub/community_detection/overlapping/mnmf.py:82: FutureWarning: adjacency_matrix will return a scipy.sparse array instead of a matrix in Networkx 3.0.\n",
      "  self._B1 = nx.adjacency_matrix(\n",
      "/N/u/zfwei/BigRed200/.local/lib/python3.10/site-packages/karateclub/community_detection/overlapping/mnmf.py:82: FutureWarning: adjacency_matrix will return a scipy.sparse array instead of a matrix in Networkx 3.0.\n",
      "  self._B1 = nx.adjacency_matrix(\n",
      "/N/u/zfwei/BigRed200/.local/lib/python3.10/site-packages/karateclub/community_detection/overlapping/mnmf.py:82: FutureWarning: adjacency_matrix will return a scipy.sparse array instead of a matrix in Networkx 3.0.\n",
      "  self._B1 = nx.adjacency_matrix(\n",
      "/N/u/zfwei/BigRed200/.local/lib/python3.10/site-packages/karateclub/community_detection/overlapping/mnmf.py:82: FutureWarning: adjacency_matrix will return a scipy.sparse array instead of a matrix in Networkx 3.0.\n",
      "  self._B1 = nx.adjacency_matrix(\n",
      "/N/u/zfwei/BigRed200/.local/lib/python3.10/site-packages/karateclub/community_detection/overlapping/mnmf.py:82: FutureWarning: adjacency_matrix will return a scipy.sparse array instead of a matrix in Networkx 3.0.\n",
      "  self._B1 = nx.adjacency_matrix(\n",
      "/N/u/zfwei/BigRed200/.local/lib/python3.10/site-packages/karateclub/community_detection/overlapping/mnmf.py:82: FutureWarning: adjacency_matrix will return a scipy.sparse array instead of a matrix in Networkx 3.0.\n",
      "  self._B1 = nx.adjacency_matrix(\n",
      "/N/u/zfwei/BigRed200/.local/lib/python3.10/site-packages/karateclub/community_detection/overlapping/mnmf.py:82: FutureWarning: adjacency_matrix will return a scipy.sparse array instead of a matrix in Networkx 3.0.\n",
      "  self._B1 = nx.adjacency_matrix(\n",
      "/N/u/zfwei/BigRed200/.local/lib/python3.10/site-packages/karateclub/community_detection/overlapping/mnmf.py:82: FutureWarning: adjacency_matrix will return a scipy.sparse array instead of a matrix in Networkx 3.0.\n",
      "  self._B1 = nx.adjacency_matrix(\n",
      "/N/u/zfwei/BigRed200/.local/lib/python3.10/site-packages/karateclub/community_detection/overlapping/mnmf.py:82: FutureWarning: adjacency_matrix will return a scipy.sparse array instead of a matrix in Networkx 3.0.\n",
      "  self._B1 = nx.adjacency_matrix(\n",
      "/N/u/zfwei/BigRed200/.local/lib/python3.10/site-packages/karateclub/community_detection/overlapping/mnmf.py:82: FutureWarning: adjacency_matrix will return a scipy.sparse array instead of a matrix in Networkx 3.0.\n",
      "  self._B1 = nx.adjacency_matrix(\n",
      "/N/u/zfwei/BigRed200/.local/lib/python3.10/site-packages/karateclub/community_detection/overlapping/mnmf.py:82: FutureWarning: adjacency_matrix will return a scipy.sparse array instead of a matrix in Networkx 3.0.\n",
      "  self._B1 = nx.adjacency_matrix(\n"
     ]
    }
   ],
   "source": [
    "### 使用 networkx 包中的函数 LFR_benchmark_graph 生成随机图\n",
    "import networkx as nx\n",
    "from networkx.generators.community import LFR_benchmark_graph\n",
    "\n",
    "RECORD = []\n",
    "\n",
    "for i in range(1,3):\n",
    "    SCORES = []\n",
    "    for n in range(1000,4000,1000):\n",
    "        tau1 = 2  # Power-law exponent for the degree distribution\n",
    "        tau2 = 1.1 # Power-law exponent for the community size distribution \n",
    "                    #S hould be >1\n",
    "        mu = 0.5 # Mixing parameter\n",
    "        avg_deg = 25 # Average Degree\n",
    "        max_deg = int(n/10) # Max Degree\n",
    "        min_commu = 60 #int(0.02*n) # Min Community Size\n",
    "        max_commu = int(n/10) # Max Community Size\n",
    "\n",
    "        G = LFR_benchmark_graph(\n",
    "            n, tau1, tau2, mu, average_degree=avg_deg, max_degree=max_deg, min_community=min_commu, max_community=max_commu, \n",
    "            seed=2\n",
    "        )\n",
    "        ### 去掉 G 中的重边和自环 \n",
    "        G = nx.Graph(G) # Remove multi-edges\n",
    "\n",
    "        selfloop_edges = list(nx.selfloop_edges(G)) # a list of self loops\n",
    "\n",
    "        G.remove_edges_from(selfloop_edges) # Remove self-loops\n",
    "        ### LFR 图是有内在的社群结构的，每个节点的社群存储在其 community 属性中，是一个 set\n",
    "        # 通过运行循环，按照内在的社群结构给每个节点一个标签 即为其 intrinsic_membership\n",
    "        # 为了方便 intrinsic_membership 一开始是作为一个 dict 存储的\n",
    "        intrinsic_communities = {frozenset(G.nodes[v][\"community\"]) for v in G}\n",
    "        intrinsic_membership = {}\n",
    "        for node in range(G.number_of_nodes()):\n",
    "            for index, inner_set in enumerate(intrinsic_communities):\n",
    "                if node in inner_set:\n",
    "                    intrinsic_membership[node] = index\n",
    "                    break\n",
    "        # intrinsic_membership = list(intrinsic_membership.values())\n",
    "\n",
    "        # 存储 list 和 clustering 格式的拷贝 省得以后需要再做类型转换了\n",
    "        intrinsic_list = list(intrinsic_membership.values())\n",
    "        from clusim.clustering import Clustering\n",
    "        intrinsic_clustering = Clustering(elm2clu_dict={i: [intrinsic_membership[i]] for i in intrinsic_membership.keys()})\n",
    "\n",
    "        scores=[]\n",
    "\n",
    "        for D in dim_rg:\n",
    "\n",
    "            # Create an instance of the MNMF model\n",
    "            MNMF_model = MNMF(dimensions = D, clusters = max(intrinsic_list)+1, lambd = 0.2, \n",
    "                         alpha = 0.05, beta = 0.05, iterations = 100, \n",
    "                         lower_control = 1e-15, eta = 5.0, seed = 42)\n",
    "\n",
    "            # Fit the model to the graph\n",
    "            MNMF_model.fit(G)\n",
    "\n",
    "            # Obtain the graph embeddings\n",
    "            MNMF_embd = MNMF_model.get_embedding()\n",
    "\n",
    "            scores.append(EE(intrinsic_list, intrinsic_clustering, MNMF_embd))\n",
    "        SCORES.append(scores)\n",
    "    RECORD.append(SCORES)"
   ]
  },
  {
   "cell_type": "code",
   "execution_count": 28,
   "id": "6f26c4ed",
   "metadata": {},
   "outputs": [],
   "source": [
    "import numpy as np\n",
    "RECORD = np.array(RECORD)\n",
    "for i in [0,1,2,3]:\n",
    "    np.savetxt(f\"MNMF0.5_{i}.txt\", np.mean(RECORD, axis=0)[:,:,i])"
   ]
  },
  {
   "cell_type": "code",
   "execution_count": 26,
   "id": "06d44563",
   "metadata": {},
   "outputs": [
    {
     "data": {
      "image/png": "[encoded data removed]",
      "text/plain": [
       "<Figure size 432x288 with 2 Axes>"
      ]
     },
     "metadata": {
      "needs_background": "light"
     },
     "output_type": "display_data"
    }
   ],
   "source": [
    "import numpy as np\n",
    "import seaborn as sns\n",
    "import matplotlib.pyplot as plt\n",
    "\n",
    "# Assuming np.mean(RECORD, axis=0)[:,:,0] is your data\n",
    "data = np.random.random((3, 2))  # Replace this with your actual data\n",
    "\n",
    "# Define custom index and column labels\n",
    "index_labels = [1000, 2000, 3000]\n",
    "column_labels = [16, 32]\n",
    "\n",
    "# Create a DataFrame using Seaborn heatmap\n",
    "heatmap_data = np.mean(RECORD, axis=0)[:,:,0]  # Replace with your actual data\n",
    "heatmap_df = pd.DataFrame(heatmap_data, index=index_labels, columns=column_labels)\n",
    "\n",
    "# Reverse both the order of index labels and DataFrame rows\n",
    "reversed_heatmap_df = heatmap_df.iloc[::-1]\n",
    "\n",
    "# Create a heatmap using Seaborn\n",
    "sns.heatmap(reversed_heatmap_df, cmap='viridis', annot=True, fmt=\".2f\", linewidths=.5)\n",
    "\n",
    "# Customize labels and display the heatmap\n",
    "plt.title('Your Heatmap Title')\n",
    "plt.xlabel('Dimension One')\n",
    "plt.ylabel('Dimension Zero')\n",
    "plt.show()\n"
   ]
  },
  {
   "cell_type": "code",
   "execution_count": 12,
   "id": "03d9fc45",
   "metadata": {
    "scrolled": true
   },
   "outputs": [
    {
     "name": "stdout",
     "output_type": "stream",
     "text": [
      "5-dim: [0.3823077134330061, 0.6022922813150142, 0.13967291058069095, 0.45437297455535347]\n",
      "7-dim: [0.5072817673795619, 0.7928627872940801, 0.20581411475451591, 0.669149659851406]\n",
      "9-dim: [0.6098394595760249, 0.8431553342398491, 0.2859462319280153, 0.8051574363468308]\n",
      "11-dim: [0.7027063180672598, 0.8646879538347192, 0.387273527383692, 0.768417217044364]\n",
      "13-dim: [0.78840859369483, 0.9174556330435574, 0.5218622510915577, 0.8961658739864657]\n",
      "15-dim: [0.8487333784932901, 0.9350278410932144, 0.627261031839733, 0.9120981085375212]\n",
      "17-dim: [0.9036956585347923, 0.9276713632409905, 0.742959885028705, 0.9048322151143287]\n",
      "19-dim: [0.953070781361253, 0.9569375419433596, 0.8713385990338163, 0.9406543163429262]\n",
      "21-dim: [0.9873611536868581, 0.981343789897072, 0.9825943554538521, 0.9742650490299626]\n",
      "23-dim: [1.0, 1.0, 1.0, 1.0]\n",
      "25-dim: [0.9999999999999998, 0.9999999999999998, 1.0, 1.0]\n",
      "27-dim: [0.9999999999999998, 0.9999999999999998, 1.0, 1.0]\n",
      "29-dim: [0.9999999999999998, 0.9999999999999998, 1.0, 1.0]\n",
      "31-dim: [1.0, 0.9999999999999998, 1.0, 1.0]\n",
      "33-dim: [1.0, 1.0, 1.0, 1.0]\n",
      "35-dim: [0.9999999999999998, 0.9999999999999998, 1.0, 1.0]\n",
      "37-dim: [0.9999999999999998, 0.9999999999999998, 1.0, 1.0]\n",
      "39-dim: [0.9999999999999998, 0.9999999999999998, 1.0, 1.0]\n",
      "41-dim: [0.9999999999999998, 0.9999999999999998, 1.0, 1.0]\n",
      "43-dim: [0.9999999999999998, 0.9999999999999998, 1.0, 1.0]\n",
      "CPU times: user 3min 52s, sys: 4min 39s, total: 8min 31s\n",
      "Wall time: 33.3 s\n"
     ]
    }
   ],
   "source": [
    "%%time\n",
    "### 1 HOPE 方法\n",
    "from gem.embedding.hope import HOPE\n",
    "for D in dim_rg:\n",
    "    hope_model = HOPE(d=D, beta=0.01) \n",
    "    # A higher value of beta places more emphasis on capturing higher-order proximities\n",
    "    hope_embd = hope_model.learn_embedding(graph=G, is_weighted=False, no_python=True)\n",
    "    print(f\"{D}-dim:\", EE(intrinsic_list, intrinsic_clustering, hope_embd))"
   ]
  },
  {
   "cell_type": "code",
   "execution_count": 11,
   "id": "a9f48c7a",
   "metadata": {
    "scrolled": true
   },
   "outputs": [
    {
     "name": "stdout",
     "output_type": "stream",
     "text": [
      "5-dim: [0.9232402159872183, 0.9933037286647749, 0.7216431244300494, 0.9884403535353535]\n",
      "7-dim: [0.9402833103043438, 1.0, 0.8137547829994863, 1.0]\n",
      "9-dim: [0.9756005949969183, 1.0, 0.9117132867132868, 1.0]\n",
      "11-dim: [1.0, 1.0, 1.0, 1.0]\n",
      "13-dim: [1.0, 1.0, 1.0, 1.0]\n",
      "15-dim: [1.0, 1.0, 1.0, 1.0]\n",
      "17-dim: [1.0, 1.0, 1.0, 1.0]\n",
      "19-dim: [1.0, 1.0, 1.0, 1.0]\n",
      "21-dim: [1.0, 1.0, 1.0, 1.0]\n",
      "23-dim: [0.9867918488169867, 0.9677916092229673, 0.9674250450450451, 0.8930436652236653]\n",
      "25-dim: [0.9879368966035568, 0.9659898482827701, 0.9690101369863015, 0.8924103521193241]\n",
      "27-dim: [0.9717168126003642, 0.9679085816406431, 0.9298000000000001, 0.894235182008767]\n",
      "29-dim: [0.964529504616945, 0.9652861233988528, 0.8993826147114918, 0.8886931804021524]\n",
      "31-dim: [0.9660333179324478, 0.9652069787767348, 0.8914184615384615, 0.8880772249290539]\n",
      "33-dim: [0.9550977786464921, 0.9474788715758008, 0.8611490416990416, 0.8568057142857143]\n",
      "35-dim: [0.9519590249836472, 0.9671090063549961, 0.8675298757349822, 0.8899927577663427]\n",
      "37-dim: [0.9722462140537071, 0.9687055975093483, 0.9074366827522291, 0.8937839826839827]\n",
      "39-dim: [0.9582588916997564, 0.9458709631267114, 0.8872481572437637, 0.8502938095238095]\n",
      "41-dim: [0.9843874729443248, 0.9724529419104674, 0.9550875675675675, 0.8968065476190475]\n",
      "43-dim: [0.9418120895672671, 0.9649334787933732, 0.8346223293614599, 0.8873795413595414]\n",
      "CPU times: user 24min 56s, sys: 21min 18s, total: 46min 14s\n",
      "Wall time: 26.7 s\n"
     ]
    }
   ],
   "source": [
    "%%time\n",
    "### 2 Laplacian 方法\n",
    "from gem.embedding.lap import LaplacianEigenmaps\n",
    "for D in dim_rg:\n",
    "    lap_model = LaplacianEigenmaps(d=D)\n",
    "    lap_embd = lap_model.learn_embedding(graph=G, is_weighted=False, no_python=True)\n",
    "    print(f\"{D}-dim:\", EE(intrinsic_list, intrinsic_clustering, lap_embd))"
   ]
  },
  {
   "cell_type": "code",
   "execution_count": 13,
   "id": "6f43097d",
   "metadata": {
    "scrolled": false
   },
   "outputs": [
    {
     "name": "stdout",
     "output_type": "stream",
     "text": [
      "5-dim: [0.9940523389802913, 1.0, 0.9911876605970351, 1.0]\n",
      "7-dim: [1.0, 1.0, 1.0, 1.0]\n",
      "9-dim: [1.0, 1.0, 1.0, 1.0]\n",
      "11-dim: [1.0, 1.0, 1.0, 1.0]\n",
      "13-dim: [1.0, 1.0, 1.0, 1.0]\n",
      "15-dim: [1.0, 1.0, 1.0, 1.0]\n",
      "17-dim: [1.0, 1.0, 1.0, 1.0]\n",
      "19-dim: [1.0, 1.0, 1.0, 1.0]\n",
      "21-dim: [1.0, 1.0, 1.0, 1.0]\n",
      "23-dim: [1.0, 1.0, 1.0, 1.0]\n",
      "25-dim: [1.0, 1.0, 1.0, 1.0]\n",
      "27-dim: [1.0, 1.0, 1.0, 1.0]\n",
      "29-dim: [1.0, 1.0, 1.0, 1.0]\n",
      "31-dim: [1.0, 1.0, 1.0, 1.0]\n",
      "33-dim: [1.0, 1.0, 1.0, 1.0]\n",
      "35-dim: [1.0, 1.0, 1.0, 1.0]\n",
      "37-dim: [1.0, 1.0, 1.0, 1.0]\n",
      "39-dim: [1.0, 1.0, 1.0, 1.0]\n",
      "41-dim: [1.0, 1.0, 1.0, 1.0]\n",
      "43-dim: [1.0, 1.0, 1.0, 1.0]\n",
      "CPU times: user 29min 53s, sys: 18min 5s, total: 47min 58s\n",
      "Wall time: 5min 51s\n"
     ]
    }
   ],
   "source": [
    "%%time\n",
    "### 4 Node2Vec 方法 \n",
    "\n",
    "from node2vec import Node2Vec\n",
    "\n",
    "for D in dim_rg:\n",
    "    # Precompute probabilities and generate walks - **ON WINDOWS ONLY WORKS WITH workers=1**\n",
    "    node2vec_model = Node2Vec(G, dimensions=D, walk_length=16, num_walks=8, workers=32, quiet=True) #, temp_folder='test' # Use temp_folder for big graphs\n",
    "    # Embed nodes \n",
    "    node2vec_fit = node2vec_model.fit(window=10, min_count=1, batch_words=16192)  \n",
    "    # Any keywords acceptable by gensim.Word2Vec can be passed, `dimensions` and `workers` are automatically passed \n",
    "    # (from the Node2Vec constructor)\n",
    "    node2vec_embd = []\n",
    "    for i in range(G.number_of_nodes()):\n",
    "        node2vec_embd.append(node2vec_fit.wv[str(i)])\n",
    "    print(f\"{D}-dim:\", EE(intrinsic_list, intrinsic_clustering, node2vec_embd))"
   ]
  },
  {
   "cell_type": "code",
   "execution_count": 14,
   "id": "e5d0c3ac",
   "metadata": {},
   "outputs": [
    {
     "name": "stdout",
     "output_type": "stream",
     "text": [
      "5-dim: [0.9693568065179067, 0.9867949439489553, 0.8966148594857097, 0.9785968264113426]\n",
      "7-dim: [1.0, 1.0, 1.0, 1.0]\n",
      "9-dim: [1.0, 1.0, 1.0, 1.0]\n",
      "11-dim: [1.0, 1.0, 1.0, 1.0]\n",
      "13-dim: [1.0, 1.0, 1.0, 1.0]\n",
      "15-dim: [1.0, 1.0, 1.0, 1.0]\n",
      "17-dim: [1.0, 1.0, 1.0, 1.0]\n",
      "19-dim: [1.0, 1.0, 1.0, 1.0]\n",
      "21-dim: [1.0, 1.0, 1.0, 1.0]\n",
      "23-dim: [1.0, 1.0, 1.0, 1.0]\n",
      "25-dim: [1.0, 1.0, 1.0, 1.0]\n",
      "27-dim: [1.0, 1.0, 1.0, 1.0]\n",
      "29-dim: [1.0, 1.0, 1.0, 1.0]\n",
      "31-dim: [1.0, 1.0, 1.0, 1.0]\n",
      "33-dim: [1.0, 1.0, 1.0, 1.0]\n",
      "35-dim: [1.0, 1.0, 1.0, 1.0]\n",
      "37-dim: [1.0, 1.0, 1.0, 1.0]\n",
      "39-dim: [1.0, 1.0, 1.0, 1.0]\n",
      "41-dim: [1.0, 1.0, 1.0, 1.0]\n",
      "43-dim: [1.0, 1.0, 1.0, 1.0]\n",
      "CPU times: user 24min 38s, sys: 18min 10s, total: 42min 49s\n",
      "Wall time: 33.2 s\n"
     ]
    }
   ],
   "source": [
    "%%time\n",
    "### 5 DeepWalk方法\n",
    "from karateclub import DeepWalk\n",
    "for D in dim_rg:\n",
    "    model = DeepWalk(dimensions=D, walk_length=16, window_size=10)\n",
    "    model.fit(G)\n",
    "    deepwalk_embd = model.get_embedding()\n",
    "    print(f\"{D}-dim:\", EE(intrinsic_list, intrinsic_clustering, deepwalk_embd))"
   ]
  },
  {
   "cell_type": "code",
   "execution_count": 15,
   "id": "2df4d92b",
   "metadata": {},
   "outputs": [
    {
     "name": "stderr",
     "output_type": "stream",
     "text": [
      "2023-06-30 12:00:51.133118: I tensorflow/core/platform/cpu_feature_guard.cc:193] This TensorFlow binary is optimized with oneAPI Deep Neural Network Library (oneDNN) to use the following CPU instructions in performance-critical operations:  AVX2 FMA\n",
      "To enable them in other operations, rebuild TensorFlow with the appropriate compiler flags.\n",
      "2023-06-30 12:00:52.254691: I tensorflow/core/common_runtime/gpu/gpu_device.cc:1532] Created device /job:localhost/replica:0/task:0/device:GPU:0 with 38271 MB memory:  -> device: 0, name: NVIDIA A100-SXM4-40GB, pci bus id: 0000:02:00.0, compute capability: 8.0\n",
      "2023-06-30 12:00:52.257477: I tensorflow/core/common_runtime/gpu/gpu_device.cc:1532] Created device /job:localhost/replica:0/task:0/device:GPU:1 with 38271 MB memory:  -> device: 1, name: NVIDIA A100-SXM4-40GB, pci bus id: 0000:41:00.0, compute capability: 8.0\n"
     ]
    },
    {
     "name": "stdout",
     "output_type": "stream",
     "text": [
      "5-dim: [0.9458577306422126, 0.9671897457348126, 0.8968378033189974, 0.9501959434164687]\n",
      "7-dim: [1.0, 1.0, 1.0, 1.0]\n",
      "9-dim: [1.0, 1.0, 1.0, 1.0]\n",
      "11-dim: [1.0, 1.0, 1.0, 1.0]\n",
      "13-dim: [1.0, 1.0, 1.0, 1.0]\n",
      "15-dim: [1.0, 1.0, 1.0, 1.0]\n",
      "17-dim: [1.0, 1.0, 1.0, 1.0]\n",
      "19-dim: [1.0, 1.0, 1.0, 1.0]\n",
      "21-dim: [1.0, 1.0, 1.0, 1.0]\n",
      "23-dim: [1.0, 1.0, 1.0, 1.0]\n",
      "25-dim: [1.0, 1.0, 1.0, 1.0]\n",
      "27-dim: [1.0, 1.0, 1.0, 1.0]\n",
      "29-dim: [1.0, 1.0, 1.0, 1.0]\n",
      "31-dim: [1.0, 1.0, 1.0, 1.0]\n",
      "33-dim: [1.0, 1.0, 1.0, 1.0]\n",
      "35-dim: [1.0, 1.0, 1.0, 1.0]\n",
      "37-dim: [1.0, 1.0, 1.0, 1.0]\n",
      "39-dim: [1.0, 1.0, 1.0, 1.0]\n",
      "41-dim: [1.0, 1.0, 1.0, 1.0]\n",
      "43-dim: [1.0, 1.0, 1.0, 1.0]\n",
      "CPU times: user 26min 33s, sys: 18min 21s, total: 44min 54s\n",
      "Wall time: 2min 20s\n"
     ]
    }
   ],
   "source": [
    "%%time\n",
    "### 6 LINE 方法\n",
    "from ge import LINE\n",
    "for D in dim_rg:\n",
    "    model = LINE(G,embedding_size=D,order='first');\n",
    "    model.train(batch_size=8192,epochs=50,verbose=0);# train model\n",
    "    LINE_embd = model.get_embeddings();# get embedding vectors\n",
    "\n",
    "    LINE_embd = list(LINE_embd.values())\n",
    "\n",
    "    print(f\"{D}-dim:\", EE(intrinsic_list, intrinsic_clustering, LINE_embd))"
   ]
  },
  {
   "cell_type": "code",
   "execution_count": 16,
   "id": "494f3039",
   "metadata": {},
   "outputs": [
    {
     "name": "stdout",
     "output_type": "stream",
     "text": [
      "5-dim: [0.9980869735715006, 0.9846794907873947, 0.9970548821548821, 0.9702276740624803]\n",
      "7-dim: [1.0, 1.0, 1.0, 1.0]\n",
      "9-dim: [1.0, 1.0, 1.0, 1.0]\n",
      "11-dim: [1.0, 1.0, 1.0, 1.0]\n",
      "13-dim: [1.0, 1.0, 1.0, 1.0]\n",
      "15-dim: [1.0, 1.0, 1.0, 1.0]\n",
      "17-dim: [1.0, 1.0, 1.0, 1.0]\n",
      "19-dim: [0.9849998602217618, 1.0, 0.9614945054945054, 1.0]\n",
      "21-dim: [0.9873602430448768, 1.0, 0.9681355555555556, 1.0]\n",
      "23-dim: [0.9830730309938028, 0.973623965342027, 0.9545888594164457, 0.9013428401663696]\n",
      "25-dim: [0.9766687786152578, 0.9678444937021975, 0.9149016541353383, 0.8933264935064935]\n",
      "27-dim: [0.9792382797034671, 1.0, 0.9226588679245283, 1.0]\n",
      "29-dim: [0.9760897847673613, 1.0, 0.9451580312907432, 1.0]\n",
      "31-dim: [0.9552149076886731, 1.0, 0.8653880106100796, 1.0]\n",
      "33-dim: [0.9420002304669386, 0.9797848825623091, 0.8472067645374052, 0.9246596078431374]\n",
      "35-dim: [0.9699687762389023, 0.9732898540453203, 0.8894000000000001, 0.8995650623885919]\n",
      "37-dim: [0.9873602430448768, 0.9954284452481378, 0.9681355555555556, 0.9914363636363637]\n",
      "39-dim: [0.9735774553698603, 0.9658267149356307, 0.9051219512195123, 0.884806274509804]\n",
      "41-dim: [0.9709301542211599, 0.963191593931121, 0.8925417959118748, 0.8763961038961039]\n",
      "43-dim: [0.925121008722667, 0.9546579680001637, 0.7675730943847072, 0.8624210265924552]\n",
      "CPU times: user 30min 50s, sys: 31min 40s, total: 1h 2min 31s\n",
      "Wall time: 38.4 s\n"
     ]
    }
   ],
   "source": [
    "%%time\n",
    "### 7 LLE 方法\n",
    "from auxpack.lle import lle\n",
    "for D in dim_rg:\n",
    "    lle_embd = lle(G, D)\n",
    "    print(f\"{D}-dim:\", EE(intrinsic_list, intrinsic_clustering, lle_embd))"
   ]
  }
 ],
 "metadata": {
  "kernelspec": {
   "display_name": "Python 3 (ipykernel)",
   "language": "python",
   "name": "python3"
  },
  "language_info": {
   "codemirror_mode": {
    "name": "ipython",
    "version": 3
   },
   "file_extension": ".py",
   "mimetype": "text/x-python",
   "name": "python",
   "nbconvert_exporter": "python",
   "pygments_lexer": "ipython3",
   "version": "3.10.5"
  }
 },
 "nbformat": 4,
 "nbformat_minor": 5
}
