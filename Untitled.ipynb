{
 "cells": [
  {
   "cell_type": "code",
   "execution_count": 1,
   "id": "5d6fe31a",
   "metadata": {},
   "outputs": [],
   "source": [
    "import numpy as np\n",
    "\n",
    "# Assuming you have a list of 4-dimensional vectors\n",
    "vectors = [[1, 2, 3, 4],\n",
    "           [5, 6, 7, 8],\n",
    "           [9, 10, 11, 12]]\n",
    "\n",
    "# Convert the list to a NumPy array for efficient computations\n",
    "array = np.array(vectors)\n",
    "\n",
    "# Calculate the mean and standard deviation for each coordinate\n",
    "mean = np.mean(array, axis=0)\n",
    "std = np.std(array, axis=0)\n",
    "\n",
    "# 'mean' and 'std' will be NumPy arrays with the mean and standard deviation for each coordinate\n"
   ]
  },
  {
   "cell_type": "code",
   "execution_count": 3,
   "id": "2d79401d",
   "metadata": {},
   "outputs": [
    {
     "data": {
      "text/plain": [
       "array([3.26598632, 3.26598632, 3.26598632, 3.26598632])"
      ]
     },
     "execution_count": 3,
     "metadata": {},
     "output_type": "execute_result"
    }
   ],
   "source": [
    "std"
   ]
  }
 ],
 "metadata": {
  "kernelspec": {
   "display_name": "Python 3 (ipykernel)",
   "language": "python",
   "name": "python3"
  },
  "language_info": {
   "codemirror_mode": {
    "name": "ipython",
    "version": 3
   },
   "file_extension": ".py",
   "mimetype": "text/x-python",
   "name": "python",
   "nbconvert_exporter": "python",
   "pygments_lexer": "ipython3",
   "version": "3.10.5"
  }
 },
 "nbformat": 4,
 "nbformat_minor": 5
}
